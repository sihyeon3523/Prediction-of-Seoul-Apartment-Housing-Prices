{
 "cells": [
  {
   "cell_type": "markdown",
   "metadata": {},
   "source": [
    "# 5. 행정동 변수 생성"
   ]
  },
  {
   "cell_type": "code",
   "execution_count": 1,
   "metadata": {},
   "outputs": [],
   "source": [
    "import pandas as pd\n",
    "import numpy as np\n",
    "import time"
   ]
  },
  {
   "cell_type": "code",
   "execution_count": 2,
   "metadata": {},
   "outputs": [],
   "source": [
    "data = pd.read_excel(\"C:/Users/Yoo/Documents/Capstone/Seoul_location/종로구 실거래(13~18).xlsx\")\n",
    "benefit = pd.read_excel(\"C:/Users/Yoo/Documents/Capstone/Factor/서울특별시_기초생활수급자.xlsx\")\n",
    "pop = pd.read_excel(\"C:/Users/Yoo/Documents/Capstone/Factor/서울특별시_인구.xlsx\")\n",
    "parking = pd.read_excel(\"C:/Users/Yoo/Documents/Capstone/Factor/서울특별시_주차공간.xlsx\")\n",
    "change = pd.read_excel(\"C:/Users/Yoo/Documents/Capstone/Factor/행정동명 변경.xlsx\")"
   ]
  },
  {
   "cell_type": "markdown",
   "metadata": {},
   "source": [
    "## 5-1 기초생활수급자 변수 생성"
   ]
  },
  {
   "cell_type": "code",
   "execution_count": 3,
   "metadata": {},
   "outputs": [],
   "source": [
    "data['법정동'] = data['법정동'].astype(str).str.strip()"
   ]
  },
  {
   "cell_type": "code",
   "execution_count": 4,
   "metadata": {},
   "outputs": [],
   "source": [
    "data['A_benefit'] = ''"
   ]
  },
  {
   "cell_type": "code",
   "execution_count": 5,
   "metadata": {},
   "outputs": [],
   "source": [
    "# 행정동명 변경\n",
    "for i,j in enumerate(benefit['동']):\n",
    "    if j in change.data_out.values:\n",
    "        x = np.where(change['data_out'].values==j)\n",
    "        benefit.at[i,'동'] = change.at[x[0][0],'data_in']\n",
    "    else:\n",
    "        print('{}번째에서 문제발생'.format(i))"
   ]
  },
  {
   "cell_type": "code",
   "execution_count": 6,
   "metadata": {},
   "outputs": [],
   "source": [
    "# 기초생활수급자 변수 생성\n",
    "for i,(j,k) in enumerate(zip(data['년'],data['행정동'])):\n",
    "    if j in benefit['기간'].values and k in benefit['동'].values:\n",
    "        x = np.where((benefit['기간'].values == j) & (benefit['동'].values == k))\n",
    "        data.at[i,'A_benefit'] = benefit.at[x[0][0],'총 수급자 인원']\n",
    "    else:\n",
    "        print('{}번째에서 문제발생'.format(i))"
   ]
  },
  {
   "cell_type": "markdown",
   "metadata": {},
   "source": [
    "## 5-2 인구 변수 생성"
   ]
  },
  {
   "cell_type": "code",
   "execution_count": 7,
   "metadata": {},
   "outputs": [],
   "source": [
    "data['A_pop_all'] = ''\n",
    "data['A_pop_65'] = ''\n",
    "data['A_pop_for'] = ''"
   ]
  },
  {
   "cell_type": "code",
   "execution_count": 8,
   "metadata": {},
   "outputs": [],
   "source": [
    "# 행정동명 변경\n",
    "for i,j in enumerate(pop['동']):\n",
    "    if j in change.data_out.values:\n",
    "        x = np.where(change['data_out'].values==j)\n",
    "        pop.at[i,'동'] = change.at[x[0][0],'data_in']\n",
    "    else:\n",
    "        print('{}번째에서 문제발생'.format(i))"
   ]
  },
  {
   "cell_type": "code",
   "execution_count": 9,
   "metadata": {},
   "outputs": [],
   "source": [
    "# 인구 변수 생성\n",
    "for i,(j,k) in enumerate(zip(data['년'],data['행정동'])):\n",
    "    if j in pop['기간'].values and k in pop['동'].values:\n",
    "        x = np.where((pop['기간'].values == j) & (pop['동'].values == k))\n",
    "\n",
    "        data.at[i,'A_pop_all'] = pop.at[x[0][0],'전체 계']\n",
    "        data.at[i,'A_pop_65'] = pop.at[x[0][0],'65세이상고령자']\n",
    "        data.at[i,'A_pop_for'] = pop.at[x[0][0],'등록 외국인 계']\n",
    "    else:\n",
    "        print('{}번째에서 문제발생'.format(i))"
   ]
  },
  {
   "cell_type": "markdown",
   "metadata": {},
   "source": [
    "## 5-3 주차장 변수 생성"
   ]
  },
  {
   "cell_type": "code",
   "execution_count": 10,
   "metadata": {},
   "outputs": [],
   "source": [
    "data['A_par_all'] = ''\n",
    "data['A_par_apt'] = ''"
   ]
  },
  {
   "cell_type": "code",
   "execution_count": 11,
   "metadata": {},
   "outputs": [],
   "source": [
    "# 행정동명 변경\n",
    "for i,j in enumerate(parking['동']):\n",
    "    if j in change.data_out.values:\n",
    "        x = np.where(change['data_out'].values==j)\n",
    "        parking.at[i,'동'] = change.at[x[0][0],'data_in']\n",
    "    else:\n",
    "        print('{}번째에서 문제발생'.format(i))"
   ]
  },
  {
   "cell_type": "code",
   "execution_count": 12,
   "metadata": {},
   "outputs": [],
   "source": [
    "# 기간으로 정렬 및 인덱스 초기화\n",
    "parking = parking.sort_values('기간', ascending =False).reset_index()"
   ]
  },
  {
   "cell_type": "code",
   "execution_count": 13,
   "metadata": {},
   "outputs": [],
   "source": [
    "# 쉼표 제거\n",
    "for i in range(len(parking)):\n",
    "    parking.at[i,'면수 계'] = parking.at[i,'면수 계'].replace(',','')\n",
    "    parking.at[i,'건축물부설 공동주택 면수'] = parking.at[i,'건축물부설 공동주택 면수'].replace(',','')"
   ]
  },
  {
   "cell_type": "code",
   "execution_count": 14,
   "metadata": {},
   "outputs": [],
   "source": [
    "# 결측값 좌표 저장\n",
    "ch1 = np.where((parking['면수 계'].values == '-') | (parking['면수 계'].values == '…'))\n",
    "ch2 = np.where((parking['건축물부설 공동주택 면수'].values == '-') | (parking['건축물부설 공동주택 면수'].values == '…'))"
   ]
  },
  {
   "cell_type": "code",
   "execution_count": 15,
   "metadata": {},
   "outputs": [],
   "source": [
    "# 면수 계열 결측값 채우기\n",
    "for i in ch1[0]:\n",
    "    year = parking.at[i,'기간']\n",
    "    area = parking.at[i,'자치구']\n",
    "    dist = parking.at[i,'동']\n",
    "    for j in range(1,6):\n",
    "        if parking.loc[(parking['기간']==(year+j)) & (parking['자치구']==area) & (parking['동']==dist),'면수 계'].values != '-' and parking.loc[(parking['기간']==(year+j)) & (parking['자치구']==area) & (parking['동']==dist),'면수 계'].values != '…':\n",
    "            parking.at[i,'면수 계'] = int(int(parking.loc[(parking['기간']==(year+j)) & (parking['자치구']==area) & (parking['동']==dist), '면수 계'])*0.98)\n",
    "            break"
   ]
  },
  {
   "cell_type": "code",
   "execution_count": 16,
   "metadata": {},
   "outputs": [],
   "source": [
    "# 건축물부설 공동주택 면수열 결측값 채우기\n",
    "for i in ch2[0]:\n",
    "    year = parking.at[i,'기간']\n",
    "    area = parking.at[i,'자치구']\n",
    "    dist = parking.at[i,'동']\n",
    "    for j in range(1,6):\n",
    "        if parking.loc[(parking['기간']==(year+j)) & (parking['자치구']==area) & (parking['동']==dist),'건축물부설 공동주택 면수'].values != '-' and parking.loc[(parking['기간']==(year+j)) & (parking['자치구']==area) & (parking['동']==dist),'건축물부설 공동주택 면수'].values != '…':\n",
    "            parking.at[i,'건축물부설 공동주택 면수'] = int(int(parking.loc[(parking['기간']==(year+j)) & (parking['자치구']==area) & (parking['동']==dist), '건축물부설 공동주택 면수'])*0.98)\n",
    "            break\n",
    "        else:\n",
    "            continue"
   ]
  },
  {
   "cell_type": "code",
   "execution_count": 17,
   "metadata": {},
   "outputs": [],
   "source": [
    "# 주차장 변수 생성\n",
    "for i,(j,k) in enumerate(zip(data['년'],data['행정동'])):\n",
    "    if j in parking['기간'].values and k in parking['동'].values:\n",
    "        x = np.where((parking['기간'].values == j) & (parking['동'].values == k))\n",
    "\n",
    "        data.at[i,'A_par_all'] = parking.at[x[0][0],'면수 계']\n",
    "        data.at[i,'A_par_apt'] = parking.at[x[0][0],'건축물부설 공동주택 면수']\n",
    "    else:\n",
    "        print('{}번째에서 문제발생'.format(i))"
   ]
  },
  {
   "cell_type": "code",
   "execution_count": 18,
   "metadata": {},
   "outputs": [],
   "source": [
    "data.to_excel('종로구 실거래(13~18).xlsx', index = False)"
   ]
  }
 ],
 "metadata": {
  "kernelspec": {
   "display_name": "Python 3",
   "language": "python",
   "name": "python3"
  },
  "language_info": {
   "codemirror_mode": {
    "name": "ipython",
    "version": 3
   },
   "file_extension": ".py",
   "mimetype": "text/x-python",
   "name": "python",
   "nbconvert_exporter": "python",
   "pygments_lexer": "ipython3",
   "version": "3.7.7"
  }
 },
 "nbformat": 4,
 "nbformat_minor": 4
}
