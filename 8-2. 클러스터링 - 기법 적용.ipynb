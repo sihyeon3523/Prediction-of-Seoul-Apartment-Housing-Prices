{
 "cells": [
  {
   "cell_type": "markdown",
   "metadata": {},
   "source": [
    "# 8. 클러스터링"
   ]
  },
  {
   "cell_type": "code",
   "execution_count": 52,
   "metadata": {},
   "outputs": [],
   "source": [
    "import pandas as pd\n",
    "import numpy as np\n",
    "import matplotlib.pyplot as plt\n",
    "%matplotlib inline\n",
    "import seaborn as sns\n",
    "from sklearn.preprocessing import LabelEncoder"
   ]
  },
  {
   "cell_type": "code",
   "execution_count": 53,
   "metadata": {},
   "outputs": [],
   "source": [
    "data = pd.read_excel('C:/Users/subin/Desktop/Documents_Capstone/계층클러스터링/클러스터링_데이터.xlsx')"
   ]
  },
  {
   "cell_type": "code",
   "execution_count": 54,
   "metadata": {},
   "outputs": [
    {
     "data": {
      "text/html": [
       "<div>\n",
       "<style scoped>\n",
       "    .dataframe tbody tr th:only-of-type {\n",
       "        vertical-align: middle;\n",
       "    }\n",
       "\n",
       "    .dataframe tbody tr th {\n",
       "        vertical-align: top;\n",
       "    }\n",
       "\n",
       "    .dataframe thead th {\n",
       "        text-align: right;\n",
       "    }\n",
       "</style>\n",
       "<table border=\"1\" class=\"dataframe\">\n",
       "  <thead>\n",
       "    <tr style=\"text-align: right;\">\n",
       "      <th></th>\n",
       "      <th>Unnamed: 0</th>\n",
       "      <th>area</th>\n",
       "      <th>2013</th>\n",
       "      <th>2014</th>\n",
       "      <th>2015</th>\n",
       "      <th>2016</th>\n",
       "      <th>2017</th>\n",
       "      <th>2018</th>\n",
       "    </tr>\n",
       "  </thead>\n",
       "  <tbody>\n",
       "    <tr>\n",
       "      <td>0</td>\n",
       "      <td>0</td>\n",
       "      <td>수궁동_중</td>\n",
       "      <td>33179</td>\n",
       "      <td>32972</td>\n",
       "      <td>34879</td>\n",
       "      <td>36522</td>\n",
       "      <td>36331</td>\n",
       "      <td>44208</td>\n",
       "    </tr>\n",
       "    <tr>\n",
       "      <td>1</td>\n",
       "      <td>1</td>\n",
       "      <td>수궁동_소</td>\n",
       "      <td>30175</td>\n",
       "      <td>30902</td>\n",
       "      <td>32040</td>\n",
       "      <td>34716</td>\n",
       "      <td>36441</td>\n",
       "      <td>38514</td>\n",
       "    </tr>\n",
       "    <tr>\n",
       "      <td>2</td>\n",
       "      <td>2</td>\n",
       "      <td>수궁동_대</td>\n",
       "      <td>44723</td>\n",
       "      <td>44186</td>\n",
       "      <td>40640</td>\n",
       "      <td>46652</td>\n",
       "      <td>46607</td>\n",
       "      <td>49682</td>\n",
       "    </tr>\n",
       "    <tr>\n",
       "      <td>3</td>\n",
       "      <td>3</td>\n",
       "      <td>풍납2동_중</td>\n",
       "      <td>43032</td>\n",
       "      <td>44835</td>\n",
       "      <td>47449</td>\n",
       "      <td>50768</td>\n",
       "      <td>55987</td>\n",
       "      <td>72262</td>\n",
       "    </tr>\n",
       "    <tr>\n",
       "      <td>4</td>\n",
       "      <td>4</td>\n",
       "      <td>풍납2동_소</td>\n",
       "      <td>31302</td>\n",
       "      <td>32117</td>\n",
       "      <td>34266</td>\n",
       "      <td>36414</td>\n",
       "      <td>37935</td>\n",
       "      <td>49201</td>\n",
       "    </tr>\n",
       "  </tbody>\n",
       "</table>\n",
       "</div>"
      ],
      "text/plain": [
       "   Unnamed: 0    area   2013   2014   2015   2016   2017   2018\n",
       "0           0   수궁동_중  33179  32972  34879  36522  36331  44208\n",
       "1           1   수궁동_소  30175  30902  32040  34716  36441  38514\n",
       "2           2   수궁동_대  44723  44186  40640  46652  46607  49682\n",
       "3           3  풍납2동_중  43032  44835  47449  50768  55987  72262\n",
       "4           4  풍납2동_소  31302  32117  34266  36414  37935  49201"
      ]
     },
     "execution_count": 54,
     "metadata": {},
     "output_type": "execute_result"
    }
   ],
   "source": [
    "data.head()"
   ]
  },
  {
   "cell_type": "code",
   "execution_count": 55,
   "metadata": {},
   "outputs": [],
   "source": [
    "data = data.drop('Unnamed: 0',axis = 1)\n",
    "data = data.drop('area',axis = 1)"
   ]
  },
  {
   "cell_type": "code",
   "execution_count": 56,
   "metadata": {
    "scrolled": true
   },
   "outputs": [
    {
     "data": {
      "text/html": [
       "<div>\n",
       "<style scoped>\n",
       "    .dataframe tbody tr th:only-of-type {\n",
       "        vertical-align: middle;\n",
       "    }\n",
       "\n",
       "    .dataframe tbody tr th {\n",
       "        vertical-align: top;\n",
       "    }\n",
       "\n",
       "    .dataframe thead th {\n",
       "        text-align: right;\n",
       "    }\n",
       "</style>\n",
       "<table border=\"1\" class=\"dataframe\">\n",
       "  <thead>\n",
       "    <tr style=\"text-align: right;\">\n",
       "      <th></th>\n",
       "      <th>2013</th>\n",
       "      <th>2014</th>\n",
       "      <th>2015</th>\n",
       "      <th>2016</th>\n",
       "      <th>2017</th>\n",
       "      <th>2018</th>\n",
       "    </tr>\n",
       "  </thead>\n",
       "  <tbody>\n",
       "    <tr>\n",
       "      <td>0</td>\n",
       "      <td>33179</td>\n",
       "      <td>32972</td>\n",
       "      <td>34879</td>\n",
       "      <td>36522</td>\n",
       "      <td>36331</td>\n",
       "      <td>44208</td>\n",
       "    </tr>\n",
       "    <tr>\n",
       "      <td>1</td>\n",
       "      <td>30175</td>\n",
       "      <td>30902</td>\n",
       "      <td>32040</td>\n",
       "      <td>34716</td>\n",
       "      <td>36441</td>\n",
       "      <td>38514</td>\n",
       "    </tr>\n",
       "    <tr>\n",
       "      <td>2</td>\n",
       "      <td>44723</td>\n",
       "      <td>44186</td>\n",
       "      <td>40640</td>\n",
       "      <td>46652</td>\n",
       "      <td>46607</td>\n",
       "      <td>49682</td>\n",
       "    </tr>\n",
       "    <tr>\n",
       "      <td>3</td>\n",
       "      <td>43032</td>\n",
       "      <td>44835</td>\n",
       "      <td>47449</td>\n",
       "      <td>50768</td>\n",
       "      <td>55987</td>\n",
       "      <td>72262</td>\n",
       "    </tr>\n",
       "    <tr>\n",
       "      <td>4</td>\n",
       "      <td>31302</td>\n",
       "      <td>32117</td>\n",
       "      <td>34266</td>\n",
       "      <td>36414</td>\n",
       "      <td>37935</td>\n",
       "      <td>49201</td>\n",
       "    </tr>\n",
       "    <tr>\n",
       "      <td>...</td>\n",
       "      <td>...</td>\n",
       "      <td>...</td>\n",
       "      <td>...</td>\n",
       "      <td>...</td>\n",
       "      <td>...</td>\n",
       "      <td>...</td>\n",
       "    </tr>\n",
       "    <tr>\n",
       "      <td>817</td>\n",
       "      <td>16306</td>\n",
       "      <td>16581</td>\n",
       "      <td>17787</td>\n",
       "      <td>19858</td>\n",
       "      <td>22441</td>\n",
       "      <td>24956</td>\n",
       "    </tr>\n",
       "    <tr>\n",
       "      <td>818</td>\n",
       "      <td>32723</td>\n",
       "      <td>32827</td>\n",
       "      <td>34965</td>\n",
       "      <td>37701</td>\n",
       "      <td>40226</td>\n",
       "      <td>44212</td>\n",
       "    </tr>\n",
       "    <tr>\n",
       "      <td>819</td>\n",
       "      <td>49876</td>\n",
       "      <td>55876</td>\n",
       "      <td>59771</td>\n",
       "      <td>66671</td>\n",
       "      <td>74195</td>\n",
       "      <td>92848</td>\n",
       "    </tr>\n",
       "    <tr>\n",
       "      <td>820</td>\n",
       "      <td>38388</td>\n",
       "      <td>40073</td>\n",
       "      <td>45236</td>\n",
       "      <td>51188</td>\n",
       "      <td>60898</td>\n",
       "      <td>73934</td>\n",
       "    </tr>\n",
       "    <tr>\n",
       "      <td>821</td>\n",
       "      <td>84130</td>\n",
       "      <td>86905</td>\n",
       "      <td>92293</td>\n",
       "      <td>100162</td>\n",
       "      <td>114770</td>\n",
       "      <td>132751</td>\n",
       "    </tr>\n",
       "  </tbody>\n",
       "</table>\n",
       "<p>822 rows × 6 columns</p>\n",
       "</div>"
      ],
      "text/plain": [
       "      2013   2014   2015    2016    2017    2018\n",
       "0    33179  32972  34879   36522   36331   44208\n",
       "1    30175  30902  32040   34716   36441   38514\n",
       "2    44723  44186  40640   46652   46607   49682\n",
       "3    43032  44835  47449   50768   55987   72262\n",
       "4    31302  32117  34266   36414   37935   49201\n",
       "..     ...    ...    ...     ...     ...     ...\n",
       "817  16306  16581  17787   19858   22441   24956\n",
       "818  32723  32827  34965   37701   40226   44212\n",
       "819  49876  55876  59771   66671   74195   92848\n",
       "820  38388  40073  45236   51188   60898   73934\n",
       "821  84130  86905  92293  100162  114770  132751\n",
       "\n",
       "[822 rows x 6 columns]"
      ]
     },
     "execution_count": 56,
     "metadata": {},
     "output_type": "execute_result"
    }
   ],
   "source": [
    "data"
   ]
  },
  {
   "cell_type": "code",
   "execution_count": 57,
   "metadata": {},
   "outputs": [],
   "source": [
    "X = np.array(data)"
   ]
  },
  {
   "cell_type": "code",
   "execution_count": 58,
   "metadata": {},
   "outputs": [],
   "source": [
    "def elbow(x):\n",
    "    sse=[]\n",
    "    for i in range(1,30):\n",
    "        km = KMeans(n_clusters=i,init='k-means++')\n",
    "        km.fit(x)\n",
    "        sse.append(km.inertia_)\n",
    "    \n",
    "    plt.plot(range(1,30),sse,marker='o')\n",
    "    plt.xlabel('클러스터 개수')\n",
    "    plt.ylabel('SSE')\n",
    "    plt.show()"
   ]
  },
  {
   "cell_type": "code",
   "execution_count": 59,
   "metadata": {},
   "outputs": [
    {
     "name": "stderr",
     "output_type": "stream",
     "text": [
      "C:\\Users\\subin\\Anaconda3\\lib\\site-packages\\matplotlib\\backends\\backend_agg.py:211: RuntimeWarning: Glyph 53364 missing from current font.\n",
      "  font.set_text(s, 0.0, flags=flags)\n",
      "C:\\Users\\subin\\Anaconda3\\lib\\site-packages\\matplotlib\\backends\\backend_agg.py:211: RuntimeWarning: Glyph 47084 missing from current font.\n",
      "  font.set_text(s, 0.0, flags=flags)\n",
      "C:\\Users\\subin\\Anaconda3\\lib\\site-packages\\matplotlib\\backends\\backend_agg.py:211: RuntimeWarning: Glyph 49828 missing from current font.\n",
      "  font.set_text(s, 0.0, flags=flags)\n",
      "C:\\Users\\subin\\Anaconda3\\lib\\site-packages\\matplotlib\\backends\\backend_agg.py:211: RuntimeWarning: Glyph 53552 missing from current font.\n",
      "  font.set_text(s, 0.0, flags=flags)\n",
      "C:\\Users\\subin\\Anaconda3\\lib\\site-packages\\matplotlib\\backends\\backend_agg.py:211: RuntimeWarning: Glyph 44060 missing from current font.\n",
      "  font.set_text(s, 0.0, flags=flags)\n",
      "C:\\Users\\subin\\Anaconda3\\lib\\site-packages\\matplotlib\\backends\\backend_agg.py:211: RuntimeWarning: Glyph 49688 missing from current font.\n",
      "  font.set_text(s, 0.0, flags=flags)\n",
      "C:\\Users\\subin\\Anaconda3\\lib\\site-packages\\matplotlib\\backends\\backend_agg.py:180: RuntimeWarning: Glyph 53364 missing from current font.\n",
      "  font.set_text(s, 0, flags=flags)\n",
      "C:\\Users\\subin\\Anaconda3\\lib\\site-packages\\matplotlib\\backends\\backend_agg.py:180: RuntimeWarning: Glyph 47084 missing from current font.\n",
      "  font.set_text(s, 0, flags=flags)\n",
      "C:\\Users\\subin\\Anaconda3\\lib\\site-packages\\matplotlib\\backends\\backend_agg.py:180: RuntimeWarning: Glyph 49828 missing from current font.\n",
      "  font.set_text(s, 0, flags=flags)\n",
      "C:\\Users\\subin\\Anaconda3\\lib\\site-packages\\matplotlib\\backends\\backend_agg.py:180: RuntimeWarning: Glyph 53552 missing from current font.\n",
      "  font.set_text(s, 0, flags=flags)\n",
      "C:\\Users\\subin\\Anaconda3\\lib\\site-packages\\matplotlib\\backends\\backend_agg.py:180: RuntimeWarning: Glyph 44060 missing from current font.\n",
      "  font.set_text(s, 0, flags=flags)\n",
      "C:\\Users\\subin\\Anaconda3\\lib\\site-packages\\matplotlib\\backends\\backend_agg.py:180: RuntimeWarning: Glyph 49688 missing from current font.\n",
      "  font.set_text(s, 0, flags=flags)\n"
     ]
    },
    {
     "data": {
      "image/png": "[encoded data removed]",
      "text/plain": [
       "<Figure size 432x288 with 1 Axes>"
      ]
     },
     "metadata": {
      "needs_background": "light"
     },
     "output_type": "display_data"
    }
   ],
   "source": [
    "elbow(X)"
   ]
  },
  {
   "cell_type": "code",
   "execution_count": 60,
   "metadata": {},
   "outputs": [],
   "source": [
    ">>> from sklearn.cluster import KMeans\n",
    "kmeans = KMeans(n_clusters=3,init='k-means++').fit(X)"
   ]
  },
  {
   "cell_type": "code",
   "execution_count": 61,
   "metadata": {},
   "outputs": [],
   "source": [
    "y_predict = kmeans.fit_predict(X)"
   ]
  },
  {
   "cell_type": "code",
   "execution_count": 62,
   "metadata": {},
   "outputs": [],
   "source": [
    "data['cluster'] = 0"
   ]
  },
  {
   "cell_type": "code",
   "execution_count": 63,
   "metadata": {},
   "outputs": [],
   "source": [
    "for i in range(len(data)):\n",
    "    data['cluster'][i] = y_predict[i]"
   ]
  },
  {
   "cell_type": "code",
   "execution_count": 64,
   "metadata": {},
   "outputs": [
    {
     "data": {
      "text/html": [
       "<div>\n",
       "<style scoped>\n",
       "    .dataframe tbody tr th:only-of-type {\n",
       "        vertical-align: middle;\n",
       "    }\n",
       "\n",
       "    .dataframe tbody tr th {\n",
       "        vertical-align: top;\n",
       "    }\n",
       "\n",
       "    .dataframe thead th {\n",
       "        text-align: right;\n",
       "    }\n",
       "</style>\n",
       "<table border=\"1\" class=\"dataframe\">\n",
       "  <thead>\n",
       "    <tr style=\"text-align: right;\">\n",
       "      <th></th>\n",
       "      <th>2013</th>\n",
       "      <th>2014</th>\n",
       "      <th>2015</th>\n",
       "      <th>2016</th>\n",
       "      <th>2017</th>\n",
       "      <th>2018</th>\n",
       "      <th>cluster</th>\n",
       "    </tr>\n",
       "  </thead>\n",
       "  <tbody>\n",
       "    <tr>\n",
       "      <td>0</td>\n",
       "      <td>33179</td>\n",
       "      <td>32972</td>\n",
       "      <td>34879</td>\n",
       "      <td>36522</td>\n",
       "      <td>36331</td>\n",
       "      <td>44208</td>\n",
       "      <td>2</td>\n",
       "    </tr>\n",
       "    <tr>\n",
       "      <td>1</td>\n",
       "      <td>30175</td>\n",
       "      <td>30902</td>\n",
       "      <td>32040</td>\n",
       "      <td>34716</td>\n",
       "      <td>36441</td>\n",
       "      <td>38514</td>\n",
       "      <td>2</td>\n",
       "    </tr>\n",
       "    <tr>\n",
       "      <td>2</td>\n",
       "      <td>44723</td>\n",
       "      <td>44186</td>\n",
       "      <td>40640</td>\n",
       "      <td>46652</td>\n",
       "      <td>46607</td>\n",
       "      <td>49682</td>\n",
       "      <td>2</td>\n",
       "    </tr>\n",
       "    <tr>\n",
       "      <td>3</td>\n",
       "      <td>43032</td>\n",
       "      <td>44835</td>\n",
       "      <td>47449</td>\n",
       "      <td>50768</td>\n",
       "      <td>55987</td>\n",
       "      <td>72262</td>\n",
       "      <td>2</td>\n",
       "    </tr>\n",
       "    <tr>\n",
       "      <td>4</td>\n",
       "      <td>31302</td>\n",
       "      <td>32117</td>\n",
       "      <td>34266</td>\n",
       "      <td>36414</td>\n",
       "      <td>37935</td>\n",
       "      <td>49201</td>\n",
       "      <td>2</td>\n",
       "    </tr>\n",
       "  </tbody>\n",
       "</table>\n",
       "</div>"
      ],
      "text/plain": [
       "    2013   2014   2015   2016   2017   2018  cluster\n",
       "0  33179  32972  34879  36522  36331  44208        2\n",
       "1  30175  30902  32040  34716  36441  38514        2\n",
       "2  44723  44186  40640  46652  46607  49682        2\n",
       "3  43032  44835  47449  50768  55987  72262        2\n",
       "4  31302  32117  34266  36414  37935  49201        2"
      ]
     },
     "execution_count": 64,
     "metadata": {},
     "output_type": "execute_result"
    }
   ],
   "source": [
    "data.head()"
   ]
  },
  {
   "cell_type": "code",
   "execution_count": 65,
   "metadata": {},
   "outputs": [],
   "source": [
    "data.to_excel('C:/Users/subin/Desktop/Documents_Capstone/계층클러스터링/k-mean.xlsx')"
   ]
  },
  {
   "cell_type": "code",
   "execution_count": null,
   "metadata": {},
   "outputs": [],
   "source": []
  }
 ],
 "metadata": {
  "kernelspec": {
   "display_name": "Python 3",
   "language": "python",
   "name": "python3"
  },
  "language_info": {
   "codemirror_mode": {
    "name": "ipython",
    "version": 3
   },
   "file_extension": ".py",
   "mimetype": "text/x-python",
   "name": "python",
   "nbconvert_exporter": "python",
   "pygments_lexer": "ipython3",
   "version": "3.7.7"
  }
 },
 "nbformat": 4,
 "nbformat_minor": 2
}
