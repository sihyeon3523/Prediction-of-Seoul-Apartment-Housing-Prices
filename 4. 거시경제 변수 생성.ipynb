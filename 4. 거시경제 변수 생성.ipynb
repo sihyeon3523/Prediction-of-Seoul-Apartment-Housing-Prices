{
 "cells": [
  {
   "cell_type": "markdown",
   "metadata": {},
   "source": [
    "# 4. 거시경제 변수 생성"
   ]
  },
  {
   "cell_type": "code",
   "execution_count": 1,
   "metadata": {},
   "outputs": [],
   "source": [
    "import pandas as pd\n",
    "import numpy as np\n",
    "import time"
   ]
  },
  {
   "cell_type": "code",
   "execution_count": 2,
   "metadata": {},
   "outputs": [],
   "source": [
    "data = pd.read_excel(\"C:/Users/Yoo/Documents/Capstone/Seoul_location/종로구 실거래(13~18).xlsx\")\n",
    "GDP = pd.read_excel(\"C:/Users/Yoo/Documents/Capstone/Factor/국내총생산 및 경제성장률 (GDP)_2013~2018.xlsx\")\n",
    "prices = pd.read_excel(\"C:/Users/Yoo/Documents/Capstone/Factor/월별 소비자 물가지수_2013~2018.xls\")\n",
    "rate = pd.read_excel(\"C:/Users/Yoo/Documents/Capstone/Factor/일별 평균 환율 조회_2013~2018.xlsx\")\n",
    "kospi = pd.read_excel(\"C:/Users/Yoo/Documents/Capstone/Factor/주가 종합 지수_2013~2018.xls\")"
   ]
  },
  {
   "cell_type": "markdown",
   "metadata": {},
   "source": [
    "## 4-1 국내총생산, 경제성장률 변수 생성"
   ]
  },
  {
   "cell_type": "code",
   "execution_count": 3,
   "metadata": {},
   "outputs": [],
   "source": [
    "# data 파일에 분기 변수 생성\n",
    "data['분기'] = ''\n",
    "\n",
    "for i in range(len(data)):\n",
    "    if data.at[i,'월']<4:\n",
    "        data.at[i,'분기'] = str(data.at[i,'년']) + '1/4'\n",
    "    elif data.at[i,'월']>3 and data.at[i,'월']<7:\n",
    "        data.at[i,'분기'] = str(data.at[i,'년']) + '2/4'\n",
    "    elif data.at[i,'월']>6 and data.at[i,'월']<10:\n",
    "        data.at[i,'분기'] = str(data.at[i,'년']) + '3/4'\n",
    "    else:\n",
    "        data.at[i,'분기'] = str(data.at[i,'년']) + '4/4'"
   ]
  },
  {
   "cell_type": "code",
   "execution_count": 4,
   "metadata": {},
   "outputs": [],
   "source": [
    "# 국내총생산, 경제생산률 매칭\n",
    "a = data['분기'].values\n",
    "b = GDP['분기'].values\n",
    "data['E_GDP'] = ''\n",
    "data['E_grow'] = ''\n",
    "\n",
    "for i in range(len(data)):\n",
    "    for j in range(len(GDP)):\n",
    "        if a[i] == b[j]:\n",
    "            data.at[i,'E_GDP'] = GDP.at[j,'국내총생산']\n",
    "            data.at[i,'E_grow'] = GDP.at[j,'경제성장률']\n",
    "            continue\n",
    "\n",
    "data.drop(['분기'], axis='columns', inplace=True)"
   ]
  },
  {
   "cell_type": "markdown",
   "metadata": {},
   "source": [
    "## 4-2 소비자물가, 집세 변수 생성"
   ]
  },
  {
   "cell_type": "code",
   "execution_count": 5,
   "metadata": {},
   "outputs": [],
   "source": [
    "# data 파일에 시기 변수 생성\n",
    "data['시기'] = 0\n",
    "\n",
    "for i in range(len(data)):\n",
    "    data.at[i,'시기'] = str(data.at[i,'년']) + str(data.at[i,'월'])"
   ]
  },
  {
   "cell_type": "code",
   "execution_count": 6,
   "metadata": {},
   "outputs": [],
   "source": [
    "# 소비자물가, 집세 매칭\n",
    "a = list(data['시기'])\n",
    "b = list(prices['시기'])\n",
    "c = list(kospi['시기'])\n",
    "data['E_CPI'] = ''\n",
    "data['E_rent'] = ''\n",
    "data['E_kospi'] = ''\n",
    "\n",
    "for i in range(len(data)):\n",
    "    if a[i] in b:\n",
    "        x = b.index(a[i])\n",
    "        data.at[i,'E_CPI'] = prices.at[x,'소비자물가']\n",
    "        data.at[i,'E_rent'] = prices.at[x,'집세']\n",
    "    \n",
    "    if a[i] in c:\n",
    "        y = c.index(a[i])\n",
    "        data.at[i,'E_kospi'] = kospi.at[y,'코스피']\n",
    "            \n",
    "\n",
    "data.drop(['시기'], axis='columns', inplace=True)"
   ]
  },
  {
   "cell_type": "markdown",
   "metadata": {},
   "source": [
    "## 4-3 환율 변수 생성"
   ]
  },
  {
   "cell_type": "code",
   "execution_count": 7,
   "metadata": {},
   "outputs": [],
   "source": [
    "# data 파일에 일자 변수 생성\n",
    "data['일자'] = ''\n",
    "\n",
    "for i in range(len(data)):\n",
    "    data.at[i,'일자'] = str(data.at[i,'년']) + '.' + str(data.at[i,'월']) + '.' + str(data.at[i,'일'])"
   ]
  },
  {
   "cell_type": "code",
   "execution_count": 8,
   "metadata": {},
   "outputs": [],
   "source": [
    "#data 날짜 형식 변경\n",
    "data[\"일자\"] = pd.to_datetime(data[\"일자\"])"
   ]
  },
  {
   "cell_type": "code",
   "execution_count": 9,
   "metadata": {},
   "outputs": [],
   "source": [
    "# 가까운 날짜 찾기 함수\n",
    "def nearest(day, rate):\n",
    "    M = {}\n",
    "    \n",
    "    for i in range(len(rate)):\n",
    "        if day.year == rate.at[i,'일자'].year and day.month == rate.at[i,'일자'].month:\n",
    "                M[abs(day.day - rate.at[i,'일자'].day)] = i\n",
    "    x = min(M.keys())\n",
    "    \n",
    "    return(rate['한국은행기준율'][M[x]])"
   ]
  },
  {
   "cell_type": "code",
   "execution_count": 10,
   "metadata": {},
   "outputs": [],
   "source": [
    "# 소비자물가, 집세 매칭(같은 날짜 있는 것)\n",
    "\n",
    "a = list(data['일자'])\n",
    "b = list(rate['일자'])\n",
    "data['E_rate'] = ''\n",
    "\n",
    "for i in range(len(data)):\n",
    "    if a[i] in b:\n",
    "        x = b.index(a[i])\n",
    "        data.at[i,'E_rate'] = rate.at[x,'한국은행기준율']\n",
    "        continue"
   ]
  },
  {
   "cell_type": "code",
   "execution_count": 11,
   "metadata": {},
   "outputs": [],
   "source": [
    "# 소비자물가, 집세 매칭(같은 날짜 없는 것)\n",
    "\n",
    "a = data['E_rate'].values\n",
    "\n",
    "for i in range(len(data)):\n",
    "    if a[i] == '':\n",
    "        data.at[i,'E_rate'] = nearest(data.at[i,'일자'], rate)\n",
    "                \n",
    "data.drop(['일자'], axis='columns', inplace=True)"
   ]
  },
  {
   "cell_type": "code",
   "execution_count": 12,
   "metadata": {},
   "outputs": [],
   "source": [
    "data.to_excel('종로구 실거래(13~18).xlsx', index = False)"
   ]
  }
 ],
 "metadata": {
  "kernelspec": {
   "display_name": "Python 3",
   "language": "python",
   "name": "python3"
  },
  "language_info": {
   "codemirror_mode": {
    "name": "ipython",
    "version": 3
   },
   "file_extension": ".py",
   "mimetype": "text/x-python",
   "name": "python",
   "nbconvert_exporter": "python",
   "pygments_lexer": "ipython3",
   "version": "3.7.7"
  }
 },
 "nbformat": 4,
 "nbformat_minor": 2
}
