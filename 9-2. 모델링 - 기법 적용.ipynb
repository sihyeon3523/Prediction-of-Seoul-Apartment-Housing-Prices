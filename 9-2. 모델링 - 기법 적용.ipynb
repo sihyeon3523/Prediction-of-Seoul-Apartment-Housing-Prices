{
 "cells": [
  {
   "cell_type": "markdown",
   "metadata": {},
   "source": [
    "# 9. 모델링"
   ]
  },
  {
   "cell_type": "code",
   "execution_count": 1,
   "metadata": {},
   "outputs": [],
   "source": [
    "import pandas as pd\n",
    "import numpy as np\n",
    "import matplotlib.pyplot as plt\n",
    "%matplotlib inline"
   ]
  },
  {
   "cell_type": "markdown",
   "metadata": {},
   "source": [
    "## 데이터 준비"
   ]
  },
  {
   "cell_type": "code",
   "execution_count": 2,
   "metadata": {},
   "outputs": [],
   "source": [
    "data_class1 = pd.read_csv(\"C:/Users/Yoo/Documents/Capstone/data_class1.csv\")"
   ]
  },
  {
   "cell_type": "code",
   "execution_count": 3,
   "metadata": {},
   "outputs": [],
   "source": [
    "def data_split(data):\n",
    "    data_class0_train = data[data['time'].between(0,19)]\n",
    "    data_class0_test = data[data['time'].between(20,23)]\n",
    "    \n",
    "    X_train = data_class0_train.drop(['price'], axis=1)\n",
    "    X_test = data_class0_test.drop(['price'], axis=1)\n",
    "    y_train = data_class0_train['price']\n",
    "    y_test = data_class0_test['price']\n",
    "    \n",
    "    return (X_train, X_test, y_train, y_test)"
   ]
  },
  {
   "cell_type": "code",
   "execution_count": 4,
   "metadata": {},
   "outputs": [],
   "source": [
    "X_train, X_test, y_train, y_test = data_split(data_class1)"
   ]
  },
  {
   "cell_type": "code",
   "execution_count": 5,
   "metadata": {},
   "outputs": [],
   "source": [
    "address_list = {'도로명시군구코드', '도로명건물본번호코드', '도로명건물부번호코드', '도로명', '아파트', '행정동', 'cluster', 'class'}\n",
    "\n",
    "X_address = X_test[address_list]\n",
    "\n",
    "X_train = X_train[X_train.columns.difference(address_list)]\n",
    "X_test = X_test[X_test.columns.difference(address_list)]"
   ]
  },
  {
   "cell_type": "code",
   "execution_count": 6,
   "metadata": {},
   "outputs": [],
   "source": [
    "def reg_accuracy(y_test, y_pred, percent):\n",
    "    y_test = np.array(y_test)\n",
    "    y_pred_temp = y_pred.round().astype('int64')\n",
    "\n",
    "    for i in range(len(y_test)):\n",
    "        if (abs((y_test[i] - y_pred_temp[i]) / y_test[i]))*100 < percent:\n",
    "            y_pred_temp[i] = y_test[i]\n",
    "            continue\n",
    "            \n",
    "    print(accuracy_score(y_test, y_pred_temp))"
   ]
  },
  {
   "cell_type": "markdown",
   "metadata": {},
   "source": [
    "## 랜덤 포레스트"
   ]
  },
  {
   "cell_type": "code",
   "execution_count": 7,
   "metadata": {},
   "outputs": [],
   "source": [
    "from sklearn.metrics import mean_squared_error\n",
    "from sklearn.metrics import accuracy_score"
   ]
  },
  {
   "cell_type": "code",
   "execution_count": 8,
   "metadata": {},
   "outputs": [
    {
     "data": {
      "text/plain": [
       "RandomForestRegressor(bootstrap=True, ccp_alpha=0.0, criterion='mse',\n",
       "                      max_depth=None, max_features='auto', max_leaf_nodes=None,\n",
       "                      max_samples=None, min_impurity_decrease=0.0,\n",
       "                      min_impurity_split=None, min_samples_leaf=1,\n",
       "                      min_samples_split=2, min_weight_fraction_leaf=0.0,\n",
       "                      n_estimators=100, n_jobs=-1, oob_score=False,\n",
       "                      random_state=42, verbose=0, warm_start=False)"
      ]
     },
     "execution_count": 8,
     "metadata": {},
     "output_type": "execute_result"
    }
   ],
   "source": [
    "from sklearn.ensemble import RandomForestRegressor\n",
    " \n",
    "rnd_reg = RandomForestRegressor(n_jobs=-1, random_state=42)\n",
    "rnd_reg.fit(X_train, y_train)"
   ]
  },
  {
   "cell_type": "code",
   "execution_count": 9,
   "metadata": {},
   "outputs": [],
   "source": [
    "y_pred_rnd = rnd_reg.predict(X_test)"
   ]
  },
  {
   "cell_type": "code",
   "execution_count": 10,
   "metadata": {},
   "outputs": [
    {
     "name": "stdout",
     "output_type": "stream",
     "text": [
      "0.419585346215781\n"
     ]
    }
   ],
   "source": [
    "reg_accuracy(y_test,y_pred_rnd,3)"
   ]
  },
  {
   "cell_type": "code",
   "execution_count": 11,
   "metadata": {
    "scrolled": true
   },
   "outputs": [
    {
     "data": {
      "text/plain": [
       "8285.308437412876"
      ]
     },
     "execution_count": 11,
     "metadata": {},
     "output_type": "execute_result"
    }
   ],
   "source": [
    "np.sqrt(mean_squared_error(y_test, y_pred_rnd))"
   ]
  },
  {
   "cell_type": "markdown",
   "metadata": {},
   "source": [
    "## 엑스트라 트리"
   ]
  },
  {
   "cell_type": "code",
   "execution_count": 12,
   "metadata": {},
   "outputs": [
    {
     "data": {
      "text/plain": [
       "ExtraTreeRegressor(ccp_alpha=0.0, criterion='mse', max_depth=None,\n",
       "                   max_features='auto', max_leaf_nodes=None,\n",
       "                   min_impurity_decrease=0.0, min_impurity_split=None,\n",
       "                   min_samples_leaf=1, min_samples_split=2,\n",
       "                   min_weight_fraction_leaf=0.0, random_state=42,\n",
       "                   splitter='random')"
      ]
     },
     "execution_count": 12,
     "metadata": {},
     "output_type": "execute_result"
    }
   ],
   "source": [
    "from sklearn.tree import ExtraTreeRegressor\n",
    "\n",
    "ext_reg = ExtraTreeRegressor(random_state=42)\n",
    "ext_reg.fit(X_train, y_train)"
   ]
  },
  {
   "cell_type": "code",
   "execution_count": 13,
   "metadata": {},
   "outputs": [],
   "source": [
    "y_pred_ext = ext_reg.predict(X_test)"
   ]
  },
  {
   "cell_type": "code",
   "execution_count": 14,
   "metadata": {},
   "outputs": [
    {
     "name": "stdout",
     "output_type": "stream",
     "text": [
      "0.31672705314009664\n"
     ]
    }
   ],
   "source": [
    "reg_accuracy(y_test,y_pred_ext,3)"
   ]
  },
  {
   "cell_type": "code",
   "execution_count": 15,
   "metadata": {},
   "outputs": [
    {
     "data": {
      "text/plain": [
       "13211.982707280076"
      ]
     },
     "execution_count": 15,
     "metadata": {},
     "output_type": "execute_result"
    }
   ],
   "source": [
    "np.sqrt(mean_squared_error(y_test, y_pred_ext))"
   ]
  },
  {
   "cell_type": "markdown",
   "metadata": {},
   "source": [
    "## XG부스트"
   ]
  },
  {
   "cell_type": "code",
   "execution_count": 20,
   "metadata": {},
   "outputs": [
    {
     "name": "stdout",
     "output_type": "stream",
     "text": [
      "[20:03:13] WARNING: C:/Jenkins/workspace/xgboost-win64_release_0.90/src/objective/regression_obj.cu:152: reg:linear is now deprecated in favor of reg:squarederror.\n"
     ]
    },
    {
     "data": {
      "text/plain": [
       "XGBRegressor(base_score=0.5, booster='gbtree', colsample_bylevel=1,\n",
       "             colsample_bynode=1, colsample_bytree=1, gamma=0,\n",
       "             importance_type='gain', learning_rate=0.1, max_delta_step=0,\n",
       "             max_depth=3, min_child_weight=1, missing=None, n_estimators=100,\n",
       "             n_jobs=1, nthread=None, objective='reg:linear', random_state=42,\n",
       "             reg_alpha=0, reg_lambda=1, scale_pos_weight=1, seed=None,\n",
       "             silent=None, subsample=1, verbosity=1)"
      ]
     },
     "execution_count": 20,
     "metadata": {},
     "output_type": "execute_result"
    }
   ],
   "source": [
    "import xgboost\n",
    "\n",
    "xgb_reg = xgboost.XGBRegressor(random_state=42)\n",
    "xgb_reg.fit(X_train, y_train)"
   ]
  },
  {
   "cell_type": "code",
   "execution_count": 21,
   "metadata": {},
   "outputs": [],
   "source": [
    "y_pred_xgb = xgb_reg.predict(X_test)"
   ]
  },
  {
   "cell_type": "code",
   "execution_count": 22,
   "metadata": {},
   "outputs": [
    {
     "name": "stdout",
     "output_type": "stream",
     "text": [
      "0.21457326892109502\n"
     ]
    }
   ],
   "source": [
    "reg_accuracy(y_test,y_pred_xgb,3)"
   ]
  },
  {
   "cell_type": "code",
   "execution_count": 23,
   "metadata": {},
   "outputs": [
    {
     "data": {
      "text/plain": [
       "13806.097267349496"
      ]
     },
     "execution_count": 23,
     "metadata": {},
     "output_type": "execute_result"
    }
   ],
   "source": [
    "np.sqrt(mean_squared_error(y_test, y_pred_xgb))"
   ]
  },
  {
   "cell_type": "markdown",
   "metadata": {},
   "source": [
    "## LGBM"
   ]
  },
  {
   "cell_type": "code",
   "execution_count": 10,
   "metadata": {},
   "outputs": [
    {
     "data": {
      "text/plain": [
       "LGBMRegressor(boosting_type='gbdt', class_weight=None, colsample_bytree=1.0,\n",
       "              importance_type='split', learning_rate=0.1, max_depth=-1,\n",
       "              min_child_samples=20, min_child_weight=0.001, min_split_gain=0.0,\n",
       "              n_estimators=100, n_jobs=-1, num_leaves=31, objective=None,\n",
       "              random_state=42, reg_alpha=0.0, reg_lambda=0.0, silent=True,\n",
       "              subsample=1.0, subsample_for_bin=200000, subsample_freq=0)"
      ]
     },
     "execution_count": 10,
     "metadata": {},
     "output_type": "execute_result"
    }
   ],
   "source": [
    "from lightgbm import LGBMRegressor\n",
    "\n",
    "lgb_reg = LGBMRegressor(random_state=42)\n",
    "lgb_reg.fit(X_train, y_train)"
   ]
  },
  {
   "cell_type": "code",
   "execution_count": 11,
   "metadata": {},
   "outputs": [],
   "source": [
    "y_pred_lgb = lgb_reg.predict(X_test)"
   ]
  },
  {
   "cell_type": "code",
   "execution_count": 12,
   "metadata": {},
   "outputs": [
    {
     "name": "stdout",
     "output_type": "stream",
     "text": [
      "0.31237721021611004\n"
     ]
    }
   ],
   "source": [
    "reg_accuracy(y_test,y_pred_lgb,3)"
   ]
  },
  {
   "cell_type": "code",
   "execution_count": 13,
   "metadata": {},
   "outputs": [
    {
     "data": {
      "text/plain": [
       "22694.752741919743"
      ]
     },
     "execution_count": 13,
     "metadata": {},
     "output_type": "execute_result"
    }
   ],
   "source": [
    "np.sqrt(mean_squared_error(y_test, y_pred_lgb))"
   ]
  },
  {
   "cell_type": "code",
   "execution_count": 20,
   "metadata": {},
   "outputs": [],
   "source": [
    "from sklearn.model_selection import GridSearchCV\n",
    "\n",
    "parameters = {'n_estimators':[1500,1750], \n",
    "              'learning_rate':[0.05, 0.1], \n",
    "              'max_depth':[2,3,4],\n",
    "              'min_child_samples':[7,9,10]}"
   ]
  },
  {
   "cell_type": "code",
   "execution_count": null,
   "metadata": {},
   "outputs": [],
   "source": [
    "grid_dtree = GridSearchCV(lgb_reg, param_grid=parameters, cv=3, scoring='neg_mean_squared_error', n_jobs=1)\n",
    "grid_dtree.fit(X_train, y_train)"
   ]
  },
  {
   "cell_type": "code",
   "execution_count": null,
   "metadata": {},
   "outputs": [],
   "source": [
    "scores_df = pd.DataFrame(grid_dtree.cv_results_)\n",
    "scores_df.head(3)"
   ]
  },
  {
   "cell_type": "code",
   "execution_count": 17,
   "metadata": {},
   "outputs": [
    {
     "name": "stdout",
     "output_type": "stream",
     "text": [
      "GridSearchCV 최적 파라미터: {'learning_rate': 0.1, 'max_depth': 3, 'min_child_samples': 9, 'n_estimators': 1500}\n",
      "GridSearchCV 최고 RMSE: 18864.6065\n"
     ]
    }
   ],
   "source": [
    "print('GridSearchCV 최적 파라미터:', grid_dtree.best_params_)\n",
    "print('GridSearchCV 최고 RMSE: {0:.4f}'.format(np.sqrt(np.abs(grid_dtree.best_score_))))"
   ]
  },
  {
   "cell_type": "code",
   "execution_count": 18,
   "metadata": {},
   "outputs": [
    {
     "data": {
      "text/plain": [
       "22216.019993980823"
      ]
     },
     "execution_count": 18,
     "metadata": {},
     "output_type": "execute_result"
    }
   ],
   "source": [
    "estimator = grid_dtree.best_estimator_\n",
    "y_pred_lgb = estimator.predict(X_test)\n",
    "\n",
    "np.sqrt(mean_squared_error(y_test, y_pred_lgb))"
   ]
  },
  {
   "cell_type": "code",
   "execution_count": 19,
   "metadata": {},
   "outputs": [],
   "source": [
    "X_class1_result = X_test\n",
    "X_class1_result['real'] = y_test\n",
    "X_class1_result['pred'] = y_pred_lgb\n",
    "\n",
    "X_class1_result = pd.concat([X_class1_result, X_address], axis=1)"
   ]
  },
  {
   "cell_type": "code",
   "execution_count": 28,
   "metadata": {},
   "outputs": [
    {
     "data": {
      "text/html": [
       "<div>\n",
       "<style scoped>\n",
       "    .dataframe tbody tr th:only-of-type {\n",
       "        vertical-align: middle;\n",
       "    }\n",
       "\n",
       "    .dataframe tbody tr th {\n",
       "        vertical-align: top;\n",
       "    }\n",
       "\n",
       "    .dataframe thead th {\n",
       "        text-align: right;\n",
       "    }\n",
       "</style>\n",
       "<table border=\"1\" class=\"dataframe\">\n",
       "  <thead>\n",
       "    <tr style=\"text-align: right;\">\n",
       "      <th></th>\n",
       "      <th>A_benefit</th>\n",
       "      <th>A_bottom</th>\n",
       "      <th>A_par_all</th>\n",
       "      <th>A_par_apt</th>\n",
       "      <th>A_pop_all</th>\n",
       "      <th>A_pop_for</th>\n",
       "      <th>A_top</th>\n",
       "      <th>D_esch</th>\n",
       "      <th>D_factory</th>\n",
       "      <th>D_hos</th>\n",
       "      <th>...</th>\n",
       "      <th>pred</th>\n",
       "      <th>real</th>\n",
       "      <th>도로명</th>\n",
       "      <th>도로명건물본번호코드</th>\n",
       "      <th>아파트</th>\n",
       "      <th>cluster</th>\n",
       "      <th>class</th>\n",
       "      <th>도로명시군구코드</th>\n",
       "      <th>도로명건물부번호코드</th>\n",
       "      <th>행정동</th>\n",
       "    </tr>\n",
       "  </thead>\n",
       "  <tbody>\n",
       "    <tr>\n",
       "      <th>6</th>\n",
       "      <td>491</td>\n",
       "      <td>0</td>\n",
       "      <td>15777</td>\n",
       "      <td>5269</td>\n",
       "      <td>27040</td>\n",
       "      <td>2994</td>\n",
       "      <td>1</td>\n",
       "      <td>0</td>\n",
       "      <td>0</td>\n",
       "      <td>0</td>\n",
       "      <td>...</td>\n",
       "      <td>195175.648531</td>\n",
       "      <td>208500</td>\n",
       "      <td>압구정로</td>\n",
       "      <td>151</td>\n",
       "      <td>신현대12차</td>\n",
       "      <td>신사동_대</td>\n",
       "      <td>1</td>\n",
       "      <td>11680</td>\n",
       "      <td>0</td>\n",
       "      <td>신사동</td>\n",
       "    </tr>\n",
       "    <tr>\n",
       "      <th>20</th>\n",
       "      <td>69</td>\n",
       "      <td>0</td>\n",
       "      <td>25539</td>\n",
       "      <td>6021</td>\n",
       "      <td>15800</td>\n",
       "      <td>329</td>\n",
       "      <td>1</td>\n",
       "      <td>0</td>\n",
       "      <td>0</td>\n",
       "      <td>0</td>\n",
       "      <td>...</td>\n",
       "      <td>170632.153780</td>\n",
       "      <td>155000</td>\n",
       "      <td>학동로88길</td>\n",
       "      <td>5</td>\n",
       "      <td>진흥아파트</td>\n",
       "      <td>삼성1동_대</td>\n",
       "      <td>1</td>\n",
       "      <td>11680</td>\n",
       "      <td>0</td>\n",
       "      <td>삼성1동</td>\n",
       "    </tr>\n",
       "    <tr>\n",
       "      <th>28</th>\n",
       "      <td>491</td>\n",
       "      <td>0</td>\n",
       "      <td>15777</td>\n",
       "      <td>5269</td>\n",
       "      <td>27040</td>\n",
       "      <td>2994</td>\n",
       "      <td>1</td>\n",
       "      <td>0</td>\n",
       "      <td>0</td>\n",
       "      <td>0</td>\n",
       "      <td>...</td>\n",
       "      <td>190377.822055</td>\n",
       "      <td>180000</td>\n",
       "      <td>압구정로11길</td>\n",
       "      <td>17</td>\n",
       "      <td>미성1차</td>\n",
       "      <td>신사동_대</td>\n",
       "      <td>1</td>\n",
       "      <td>11680</td>\n",
       "      <td>0</td>\n",
       "      <td>신사동</td>\n",
       "    </tr>\n",
       "  </tbody>\n",
       "</table>\n",
       "<p>3 rows × 39 columns</p>\n",
       "</div>"
      ],
      "text/plain": [
       "    A_benefit  A_bottom  A_par_all  A_par_apt  A_pop_all  A_pop_for  A_top  \\\n",
       "6         491         0      15777       5269      27040       2994      1   \n",
       "20         69         0      25539       6021      15800        329      1   \n",
       "28        491         0      15777       5269      27040       2994      1   \n",
       "\n",
       "    D_esch  D_factory  D_hos  ...           pred    real      도로명  도로명건물본번호코드  \\\n",
       "6        0          0      0  ...  195175.648531  208500     압구정로         151   \n",
       "20       0          0      0  ...  170632.153780  155000   학동로88길           5   \n",
       "28       0          0      0  ...  190377.822055  180000  압구정로11길          17   \n",
       "\n",
       "       아파트  cluster  class  도로명시군구코드  도로명건물부번호코드   행정동  \n",
       "6   신현대12차    신사동_대      1     11680           0   신사동  \n",
       "20   진흥아파트   삼성1동_대      1     11680           0  삼성1동  \n",
       "28    미성1차    신사동_대      1     11680           0   신사동  \n",
       "\n",
       "[3 rows x 39 columns]"
      ]
     },
     "execution_count": 28,
     "metadata": {},
     "output_type": "execute_result"
    }
   ],
   "source": [
    "X_class1_result.head(3)"
   ]
  },
  {
   "cell_type": "code",
   "execution_count": 30,
   "metadata": {},
   "outputs": [],
   "source": [
    "X_class1_result.to_excel('class1_result.xlsx', index = False)"
   ]
  }
 ],
 "metadata": {
  "kernelspec": {
   "display_name": "Python 3",
   "language": "python",
   "name": "python3"
  },
  "language_info": {
   "codemirror_mode": {
    "name": "ipython",
    "version": 3
   },
   "file_extension": ".py",
   "mimetype": "text/x-python",
   "name": "python",
   "nbconvert_exporter": "python",
   "pygments_lexer": "ipython3",
   "version": "3.7.7"
  }
 },
 "nbformat": 4,
 "nbformat_minor": 4
}
