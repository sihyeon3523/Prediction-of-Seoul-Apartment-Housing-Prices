{
 "cells": [
  {
   "cell_type": "markdown",
   "metadata": {},
   "source": [
    "# 1. API 데이터 다운로드"
   ]
  },
  {
   "cell_type": "code",
   "execution_count": 42,
   "metadata": {},
   "outputs": [
    {
     "name": "stdout",
     "output_type": "stream",
     "text": [
      "http://openapi.molit.go.kr/OpenAPI_ToolInstallPackage/service/rest/RTMSOBJSvc/getRTMSDataSvcAptTradeDev?LAWD_CD=11710&DEAL_YMD=201812&numOfRows=9999&serviceKey=WOa5BmaTD6m2ZgJThflTcUvp3opy0q9P%2BLqxlMAj13dYSLKLLa%2B8tP%2B0Z6Ct9P369VJ8p%2FQysF5hkOAcDIk7Dg%3D%3D\n"
     ]
    }
   ],
   "source": [
    "from bs4 import BeautifulSoup\n",
    "import pandas as pd\n",
    "import requests\n",
    "\n",
    "거래금액리스트=[]\n",
    "건축년도리스트=[]\n",
    "년리스트=[]\n",
    "도로명리스트=[]\n",
    "도로명건물본번호코드리스트=[]\n",
    "도로명건물부번호코드리스트=[]\n",
    "도로명시군구코드리스트=[]\n",
    "도로명일련번호코드리스트=[]\n",
    "도로명코드리스트=[]\n",
    "법정동리스트=[]\n",
    "법정동본번코드리스트=[]\n",
    "법정동부번코드리스트=[]\n",
    "법정동시군구코드리스트=[]\n",
    "법정동읍면동코드리스트=[]\n",
    "법정동지번코드리스트=[]\n",
    "아파트리스트=[]\n",
    "월리스트=[]\n",
    "일리스트=[]\n",
    "일련번호리스트=[]\n",
    "전용면적리스트=[]\n",
    "지번리스트=[]\n",
    "지역코드리스트=[]\n",
    "층리스트=[]\n",
    "\n",
    "A = ['거래금액','건축년도','년','도로명','도로명건물본번호코드','도로명건물부번호코드','도로명시군구코드',\n",
    "     '도로명일련번호코드','도로명코드','법정동','법정동본번코드','법정동부번코드','법정동시군구코드','법정동읍면동코드',\n",
    "     '법정동지번코드','아파트','월','일','일련번호','전용면적','지번','지역코드','층']\n",
    "\n",
    "B = [거래금액리스트,건축년도리스트,년리스트,도로명리스트,도로명건물본번호코드리스트,도로명건물부번호코드리스트,도로명시군구코드리스트,\n",
    "    도로명일련번호코드리스트,도로명코드리스트,법정동리스트,법정동본번코드리스트,법정동부번코드리스트,법정동시군구코드리스트,\n",
    "    법정동읍면동코드리스트,법정동지번코드리스트,아파트리스트,월리스트,일리스트,일련번호리스트,전용면적리스트,지번리스트,지역코드리스트,\n",
    "    층리스트]\n",
    "\n",
    "for i in range(3,9):\n",
    "    for j in range(1,13):\n",
    "        if j <10:\n",
    "            yymm = '201%d0%d'%(i,j)\n",
    "        else:\n",
    "            yymm = '201%d%d'%(i,j)\n",
    "        maxRow = '9999'\n",
    "        url = \"http://openapi.molit.go.kr/OpenAPI_ToolInstallPackage/service/rest/RTMSOBJSvc/getRTMSDataSvcAptTradeDev?LAWD_CD=11710&DEAL_YMD=\"+yymm+\"&numOfRows=\"+maxRow+\"&serviceKey=WOa5BmaTD6m2ZgJThflTcUvp3opy0q9P%2BLqxlMAj13dYSLKLLa%2B8tP%2B0Z6Ct9P369VJ8p%2FQysF5hkOAcDIk7Dg%3D%3D\"\n",
    "        response=requests.get(url)\n",
    "        soup = BeautifulSoup(response.text, 'lxml-xml')\n",
    "        ItemList=soup.findAll('item')\n",
    "        \n",
    "        for k in range(len(ItemList)):\n",
    "            for l,m in zip(A,B):\n",
    "                if ItemList[k].find(l) == None:\n",
    "                    m.append('NA')\n",
    "                else:\n",
    "                    m.append(ItemList[k].find(l).text)\n",
    "print(url)\n",
    "data=pd.concat([pd.DataFrame(거래금액리스트),pd.DataFrame(건축년도리스트),pd.DataFrame(년리스트),pd.DataFrame(도로명리스트),\n",
    "                    pd.DataFrame(도로명건물본번호코드리스트),pd.DataFrame(도로명건물부번호코드리스트),\n",
    "                    pd.DataFrame(도로명시군구코드리스트),pd.DataFrame(도로명일련번호코드리스트),pd.DataFrame(도로명코드리스트),\n",
    "                    pd.DataFrame(법정동리스트),pd.DataFrame(법정동본번코드리스트),pd.DataFrame(법정동부번코드리스트),\n",
    "                    pd.DataFrame(법정동시군구코드리스트),pd.DataFrame(법정동읍면동코드리스트),pd.DataFrame(법정동지번코드리스트),\n",
    "                    pd.DataFrame(아파트리스트),pd.DataFrame(월리스트),pd.DataFrame(일리스트),pd.DataFrame(일련번호리스트),\n",
    "                    pd.DataFrame(전용면적리스트),pd.DataFrame(지번리스트),pd.DataFrame(지역코드리스트),pd.DataFrame(층리스트)], axis=1)\n",
    "\n",
    "data.columns = A"
   ]
  },
  {
   "cell_type": "code",
   "execution_count": 43,
   "metadata": {},
   "outputs": [],
   "source": [
    "data.to_excel('송파구 실거래(13~18).xlsx')"
   ]
  }
 ],
 "metadata": {
  "kernelspec": {
   "display_name": "Python 3",
   "language": "python",
   "name": "python3"
  },
  "language_info": {
   "codemirror_mode": {
    "name": "ipython",
    "version": 3
   },
   "file_extension": ".py",
   "mimetype": "text/x-python",
   "name": "python",
   "nbconvert_exporter": "python",
   "pygments_lexer": "ipython3",
   "version": "3.7.7"
  }
 },
 "nbformat": 4,
 "nbformat_minor": 2
}
