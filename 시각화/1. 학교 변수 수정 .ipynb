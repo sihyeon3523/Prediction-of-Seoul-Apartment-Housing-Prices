{
 "cells": [
  {
   "cell_type": "code",
   "execution_count": 1,
   "metadata": {},
   "outputs": [],
   "source": [
    "import pandas as pd\n",
    "import matplotlib.pyplot as plt\n",
    "from haversine import haversine\n",
    "%matplotlib inline"
   ]
  },
  {
   "cell_type": "code",
   "execution_count": 2,
   "metadata": {},
   "outputs": [],
   "source": [
    "data = pd.read_excel(\"종로구 실거래 최종변수.xlsx\",index_col=0)\n",
    "school = pd.read_excel(\"서울 초중등학교 위치.xls\",index_col=0)\n",
    "\n",
    "data['price']= data.price.str.replace(',','').astype('int64')"
   ]
  },
  {
   "cell_type": "code",
   "execution_count": 3,
   "metadata": {},
   "outputs": [],
   "source": [
    "high_school = school[school['학교급구분'] == '고등학교'].reset_index(drop=True)\n",
    "middle_school = school[school['학교급구분'] == '중학교'].reset_index(drop=True)\n",
    "elementary_school = school[school['학교급구분'] == '초등학교'].reset_index(drop=True)"
   ]
  },
  {
   "cell_type": "markdown",
   "metadata": {},
   "source": [
    "# 300m 내가 아닌 500m로 했을 때"
   ]
  },
  {
   "cell_type": "code",
   "execution_count": 4,
   "metadata": {},
   "outputs": [],
   "source": [
    "# 고등학교 변수 생성\n",
    "a = (data['lat'].values, data['lng'].values)\n",
    "b = (high_school['위도'].values, high_school['경도'].values)\n",
    "\n",
    "for i in range(len(data)):\n",
    "    x = 0\n",
    "    for j in range(len(high_school)):\n",
    "        if(haversine((a[0][i],a[1][i]), (b[0][j],b[1][j]), unit = 'm') < 500):\n",
    "            x = x + 1\n",
    "    data.at[i,'D_hsch'] = x #at[행,열]   "
   ]
  },
  {
   "cell_type": "code",
   "execution_count": 5,
   "metadata": {},
   "outputs": [],
   "source": [
    "#중학교 변수 생성\n",
    "a = (data['lat'].values, data['lng'].values)\n",
    "b = (middle_school['위도'].values, middle_school['경도'].values)\n",
    "\n",
    "for i in range(len(data)):\n",
    "    x = 0\n",
    "    for j in range(len(middle_school)):\n",
    "        if(haversine((a[0][i],a[1][i]), (b[0][j],b[1][j]), unit = 'm') < 500):\n",
    "            x = x + 1\n",
    "    data.at[i,'D_msch'] = x"
   ]
  },
  {
   "cell_type": "code",
   "execution_count": 6,
   "metadata": {},
   "outputs": [],
   "source": [
    "#초등학교 변수 생성\n",
    "a = (data['lat'].values, data['lng'].values)\n",
    "b = (elementary_school['위도'].values, elementary_school['경도'].values)\n",
    "\n",
    "for i in range(len(data)):\n",
    "    x = 0\n",
    "    for j in range(len(elementary_school)):\n",
    "        if(haversine((a[0][i],a[1][i]), (b[0][j],b[1][j]), unit = 'm') < 500):\n",
    "            x = x + 1\n",
    "    data.at[i,'D_esch'] = x"
   ]
  },
  {
   "cell_type": "markdown",
   "metadata": {},
   "source": [
    "# 변수생성-고등,중등,초등 모두 포함한 학교 개수"
   ]
  },
  {
   "cell_type": "code",
   "execution_count": 7,
   "metadata": {
    "scrolled": true
   },
   "outputs": [
    {
     "name": "stderr",
     "output_type": "stream",
     "text": [
      "C:\\Users\\Itshony\\Anaconda3\\lib\\site-packages\\ipykernel_launcher.py:3: SettingWithCopyWarning: \n",
      "A value is trying to be set on a copy of a slice from a DataFrame\n",
      "\n",
      "See the caveats in the documentation: https://pandas.pydata.org/pandas-docs/stable/user_guide/indexing.html#returning-a-view-versus-a-copy\n",
      "  This is separate from the ipykernel package so we can avoid doing imports until\n"
     ]
    }
   ],
   "source": [
    "data['school_var']=''\n",
    "for i in range(len(data)):\n",
    "    data['school_var'][i]=data['D_hsch'][i]+data['D_msch'][i]+data['D_esch'][i]\n",
    "data['school_var']=data.school_var.astype('int64')"
   ]
  },
  {
   "cell_type": "code",
   "execution_count": 8,
   "metadata": {},
   "outputs": [
    {
     "data": {
      "text/plain": [
       "-0.20250650321536165"
      ]
     },
     "execution_count": 8,
     "metadata": {},
     "output_type": "execute_result"
    }
   ],
   "source": [
    "data['price'].corr(data['school_var'])"
   ]
  },
  {
   "cell_type": "markdown",
   "metadata": {},
   "source": [
    "## before vs after\n",
    "- D_hsch -0.255806 -> -0.168418\n",
    "- D_msch -0.229329 -> -0.097758\n",
    "- D_esch -0.271739 -> -0.219330\t"
   ]
  },
  {
   "cell_type": "code",
   "execution_count": null,
   "metadata": {},
   "outputs": [],
   "source": []
  }
 ],
 "metadata": {
  "kernelspec": {
   "display_name": "Python 3",
   "language": "python",
   "name": "python3"
  },
  "language_info": {
   "codemirror_mode": {
    "name": "ipython",
    "version": 3
   },
   "file_extension": ".py",
   "mimetype": "text/x-python",
   "name": "python",
   "nbconvert_exporter": "python",
   "pygments_lexer": "ipython3",
   "version": "3.7.7"
  }
 },
 "nbformat": 4,
 "nbformat_minor": 4
}
