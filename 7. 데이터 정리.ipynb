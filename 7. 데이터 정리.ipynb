{
 "cells": [
  {
   "cell_type": "markdown",
   "metadata": {},
   "source": [
    "# 7. 데이터 정리"
   ]
  },
  {
   "cell_type": "code",
   "execution_count": 2,
   "metadata": {},
   "outputs": [],
   "source": [
    "import pandas as pd\n",
    "import numpy as np\n",
    "import time"
   ]
  },
  {
   "cell_type": "code",
   "execution_count": 7,
   "metadata": {},
   "outputs": [],
   "source": [
    "data = pd.read_excel(\"C:/Users/Yoo/Documents/Capstone/Seoul_Jiga/종로구 실거래(13~18).xlsx\")"
   ]
  },
  {
   "cell_type": "markdown",
   "metadata": {},
   "source": [
    "## 7-1 데이터 통합"
   ]
  },
  {
   "cell_type": "code",
   "execution_count": 8,
   "metadata": {},
   "outputs": [],
   "source": [
    "A = ['강남구','강동구','강북구','강서구','관악구','광진구','구로구','금천구','노원구','도봉구','동대문구','동작구','마포구',\n",
    "     '서대문구','서초구','성동구','성북구','송파구','양천구','영등포구','용산구','은평구','종로구','중구','중랑구']\n",
    "\n",
    "Temp1 = pd.DataFrame(columns= list(data.columns))"
   ]
  },
  {
   "cell_type": "code",
   "execution_count": 9,
   "metadata": {},
   "outputs": [
    {
     "name": "stdout",
     "output_type": "stream",
     "text": [
      "강남구 35089 35089\n",
      "강동구 29823 64912\n",
      "강북구 11162 76074\n",
      "강서구 35174 111248\n",
      "관악구 18305 129553\n",
      "광진구 11426 140979\n",
      "구로구 29243 170222\n",
      "금천구 9590 179812\n",
      "노원구 56698 236510\n",
      "도봉구 24921 261431\n",
      "동대문구 19928 281359\n",
      "동작구 21966 303325\n",
      "마포구 20985 324310\n",
      "서대문구 16179 340489\n",
      "서초구 26566 367055\n",
      "성동구 21181 388236\n",
      "성북구 29946 418182\n",
      "송파구 38147 456329\n",
      "양천구 27283 483612\n",
      "영등포구 24162 507774\n",
      "용산구 11210 518984\n",
      "은평구 18681 537665\n",
      "종로구 4411 542076\n",
      "중구 6991 549067\n",
      "중랑구 17593 566660\n"
     ]
    }
   ],
   "source": [
    "for i in A:\n",
    "    Temp2 = pd.read_excel('C:/Users/Yoo/Documents/Capstone/Seoul_Jiga/%s 실거래(13~18).xlsx'%i)\n",
    "    Temp1 = pd.concat([Temp1, Temp2], axis = 0)\n",
    "    print(i, len(Temp2), len(Temp1))\n",
    "\n",
    "Temp1 = Temp1.reset_index(drop=True)\n",
    "data = Temp1.copy()"
   ]
  },
  {
   "cell_type": "code",
   "execution_count": 10,
   "metadata": {},
   "outputs": [],
   "source": [
    "data.to_excel('실거래(13~18).xlsx', index = False)"
   ]
  },
  {
   "cell_type": "markdown",
   "metadata": {},
   "source": [
    "## 7-2 불필요 변수 제거"
   ]
  },
  {
   "cell_type": "code",
   "execution_count": 211,
   "metadata": {},
   "outputs": [],
   "source": [
    "data = data.drop(['도로명','도로명건물본번호코드','도로명건물부번호코드','도로명시군구코드','도로명일련번호코드','도로명코드','법정동','법정동본번코드','법정동부번코드','법정동시군구코드','법정동읍면동코드','법정동지번코드','아파트','지번','일련번호'],axis=1)"
   ]
  },
  {
   "cell_type": "markdown",
   "metadata": {},
   "source": [
    "## 사용할 변수 \n",
    "\n",
    "- 거래금액 : 종속변수\n",
    "- 건축년도 : 재건축 가능성 계산 \n",
    "- 년 : 거래 년도\n",
    "- 월 : 거래 년도\n",
    "- 일 : 거래 일\n",
    "- 전용면적 : 필요\n",
    "- 지역코드 : 각 구별 코드\n",
    "- 층 : 필요 \n",
    "- location : 도로명 + 건물본번호코드-건물부번호코드\n",
    "- 위도 : 학교와의 거리 \n",
    "- 경도 : 학교와의 거리\n",
    "\n",
    "## 제거할 변수\n",
    "\n",
    "- 도로명, 도로명건물본번호코드, 도로명건물부번호코드, 도로명시군구코드, 도로명일련번호코드, 도로명코드, 법정동, 법정동부번코드, \n",
    "  법정동시군구코드, 법정동읍면동코드, 법정동지번코드, 지번 ~ location으로 통합 \n",
    "- 일련번호 ~ 각 아파트에 번호를 지정한 변수. 아파트 변수로 대체 "
   ]
  }
 ],
 "metadata": {
  "kernelspec": {
   "display_name": "Python 3",
   "language": "python",
   "name": "python3"
  },
  "language_info": {
   "codemirror_mode": {
    "name": "ipython",
    "version": 3
   },
   "file_extension": ".py",
   "mimetype": "text/x-python",
   "name": "python",
   "nbconvert_exporter": "python",
   "pygments_lexer": "ipython3",
   "version": "3.7.7"
  }
 },
 "nbformat": 4,
 "nbformat_minor": 2
}
