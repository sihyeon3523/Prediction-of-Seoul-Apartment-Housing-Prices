{
 "cells": [
  {
   "cell_type": "markdown",
   "metadata": {},
   "source": [
    "## 3-2 거리 변수 생성"
   ]
  },
  {
   "cell_type": "code",
   "execution_count": 15,
   "metadata": {},
   "outputs": [],
   "source": [
    "from haversine import haversine\n",
    "import pandas as pd\n",
    "import numpy as np\n",
    "import time\n",
    "import math"
   ]
  },
  {
   "cell_type": "code",
   "execution_count": 2,
   "metadata": {},
   "outputs": [],
   "source": [
    "data = pd.read_excel(\"C:/Users/Yoo/Documents/Capstone/Seoul_location/종로구 실거래(13~18).xlsx\")\n",
    "school = pd.read_excel(\"C:/Users/Yoo/Documents/Capstone/Factor/서울 초중등학교 위치.xls\")\n",
    "subway = pd.read_excel(\"C:/Users/Yoo/Documents/Capstone/Factor/서울특별시 지하철.xlsx\")\n",
    "hospital = pd.read_csv(\"C:/Users/Yoo/Documents/Capstone/Factor/서울특별시 종합병원.csv\", encoding = 'cp949')\n",
    "market = pd.read_csv(\"C:/Users/Yoo/Documents/Capstone/Factor/서울특별시_전통시장(2020).csv\", encoding = 'cp949')\n",
    "library = pd.read_excel(\"C:/Users/Yoo/Documents/Capstone/Factor/서울특별시_공공도서관_현황(2019).xlsx\")\n",
    "factory = pd.read_excel(\"C:/Users/Yoo/Documents/Capstone/Factor/서울특별시_공해공장.xlsx\")"
   ]
  },
  {
   "cell_type": "markdown",
   "metadata": {},
   "source": [
    "## 3-2-1 학교 변수 생성"
   ]
  },
  {
   "cell_type": "code",
   "execution_count": 3,
   "metadata": {},
   "outputs": [],
   "source": [
    "high_school = school[school['학교급구분'] == '고등학교'].reset_index(drop=True)\n",
    "middle_school = school[school['학교급구분'] == '중학교'].reset_index(drop=True)\n",
    "elementary_school = school[school['학교급구분'] == '초등학교'].reset_index(drop=True)"
   ]
  },
  {
   "cell_type": "code",
   "execution_count": 4,
   "metadata": {},
   "outputs": [],
   "source": [
    "data['D_hsch'] = ''\n",
    "data['D_msch'] = ''\n",
    "data['D_esch'] = ''"
   ]
  },
  {
   "cell_type": "code",
   "execution_count": 5,
   "metadata": {},
   "outputs": [],
   "source": [
    "# 고등학교 변수 생성\n",
    "a = (data['lat'].values, data['lng'].values)\n",
    "b = (high_school['위도'].values, high_school['경도'].values)\n",
    "\n",
    "for i in range(len(data)):\n",
    "    x = 0\n",
    "    for j in range(len(high_school)):\n",
    "        if(haversine((a[0][i],a[1][i]), (b[0][j],b[1][j]), unit = 'm') < 300):\n",
    "            x = x + 1\n",
    "    data.at[i,'D_hsch'] = x"
   ]
  },
  {
   "cell_type": "code",
   "execution_count": 6,
   "metadata": {},
   "outputs": [],
   "source": [
    "#중학교 변수 생성\n",
    "a = (data['lat'].values, data['lng'].values)\n",
    "b = (middle_school['위도'].values, middle_school['경도'].values)\n",
    "\n",
    "for i in range(len(data)):\n",
    "    x = 0\n",
    "    for j in range(len(middle_school)):\n",
    "        if(haversine((a[0][i],a[1][i]), (b[0][j],b[1][j]), unit = 'm') < 300):\n",
    "            x = x + 1\n",
    "    data.at[i,'D_msch'] = x"
   ]
  },
  {
   "cell_type": "code",
   "execution_count": 7,
   "metadata": {},
   "outputs": [],
   "source": [
    "#초등학교 변수 생성\n",
    "a = (data['lat'].values, data['lng'].values)\n",
    "b = (elementary_school['위도'].values, elementary_school['경도'].values)\n",
    "\n",
    "for i in range(len(data)):\n",
    "    x = 0\n",
    "    for j in range(len(elementary_school)):\n",
    "        if(haversine((a[0][i],a[1][i]), (b[0][j],b[1][j]), unit = 'm') < 300):\n",
    "            x = x + 1\n",
    "    data.at[i,'D_esch'] = x"
   ]
  },
  {
   "cell_type": "markdown",
   "metadata": {},
   "source": [
    "## 3-2-2 지하철 변수 생성"
   ]
  },
  {
   "cell_type": "code",
   "execution_count": 8,
   "metadata": {},
   "outputs": [],
   "source": [
    "data['D_sub'] = ''\n",
    "data['D_trans'] = ''"
   ]
  },
  {
   "cell_type": "code",
   "execution_count": 9,
   "metadata": {},
   "outputs": [],
   "source": [
    "# 지하철 변수 생성\n",
    "a = (data['lat'].values, data['lng'].values)\n",
    "b = (subway['위도'].values, subway['경도'].values)\n",
    "c = subway['환승역'].values\n",
    "\n",
    "for i in range(len(data)):\n",
    "    x = 0\n",
    "    y = 0\n",
    "    for j in range(len(subway)):\n",
    "        if(haversine((a[0][i],a[1][i]), (b[0][j],b[1][j]), unit = 'm') < 300):\n",
    "            x = x + 1\n",
    "            y += c[j]\n",
    "    data.at[i,'D_sub'] = x\n",
    "    data.at[i,'D_trans'] = y"
   ]
  },
  {
   "cell_type": "markdown",
   "metadata": {},
   "source": [
    "## 3-2-3 병원 변수 생성"
   ]
  },
  {
   "cell_type": "code",
   "execution_count": 10,
   "metadata": {},
   "outputs": [],
   "source": [
    "data['D_hos'] = ''"
   ]
  },
  {
   "cell_type": "code",
   "execution_count": 11,
   "metadata": {},
   "outputs": [],
   "source": [
    "# 병원 변수 생성\n",
    "a = (data['lat'].values, data['lng'].values)\n",
    "b = (hospital['latitude'].values, hospital['longitude'].values)\n",
    "\n",
    "for i in range(len(data)):\n",
    "    x = 0\n",
    "    for j in range(len(hospital)):\n",
    "        if(haversine((a[0][i],a[1][i]), (b[0][j],b[1][j]), unit = 'm') < 300):\n",
    "            x = x + 1\n",
    "    data.at[i,'D_hos'] = x"
   ]
  },
  {
   "cell_type": "markdown",
   "metadata": {},
   "source": [
    "## 3-2-4 전통시장 변수 생성"
   ]
  },
  {
   "cell_type": "code",
   "execution_count": 12,
   "metadata": {},
   "outputs": [],
   "source": [
    "data.at[i,'D_market'] = ''"
   ]
  },
  {
   "cell_type": "code",
   "execution_count": 13,
   "metadata": {},
   "outputs": [],
   "source": [
    "# 전통시장 변수 생성\n",
    "a = (data['lat'].values, data['lng'].values)\n",
    "b = (market['위도'].values, market['경도'].values)\n",
    "\n",
    "for i in range(len(data)):\n",
    "    x = 0\n",
    "    for j in range(len(market)):\n",
    "        if(haversine((a[0][i],a[1][i]), (b[0][j],b[1][j]), unit = 'm') < 300):\n",
    "            x = x + 1\n",
    "    data.at[i,'D_market'] = x"
   ]
  },
  {
   "cell_type": "markdown",
   "metadata": {},
   "source": [
    "## 3-2-5 도서관 변수 생성"
   ]
  },
  {
   "cell_type": "code",
   "execution_count": 17,
   "metadata": {},
   "outputs": [],
   "source": [
    "data['D_library'] = ''"
   ]
  },
  {
   "cell_type": "code",
   "execution_count": 16,
   "metadata": {},
   "outputs": [],
   "source": [
    "# 결측값 0으로, 아닌 값 년도만\n",
    "library['설립연도'] = library['설립연도'].apply(lambda b: 0 if math.isnan(b) == True else int(str(b)[0:4]))"
   ]
  },
  {
   "cell_type": "code",
   "execution_count": 18,
   "metadata": {},
   "outputs": [],
   "source": [
    "# 도서관 변수 생성\n",
    "a = (data['lat'].values, data['lng'].values, data['년'].values)\n",
    "b = (library['위도'].values, library['경도'].values,library['설립연도'].values)\n",
    "\n",
    "for i in range(len(data)):\n",
    "    x = 0\n",
    "    for j in range(len(library)):\n",
    "        if(haversine((a[0][i],a[1][i]), (b[0][j],b[1][j]), unit = 'm') < 300 and a[2][i] > b[2][j]):\n",
    "            x = x + 1\n",
    "    data.at[i,'D_library'] = x"
   ]
  },
  {
   "cell_type": "markdown",
   "metadata": {},
   "source": [
    "## 3-2-6 공장(공해) 변수 생성"
   ]
  },
  {
   "cell_type": "code",
   "execution_count": null,
   "metadata": {},
   "outputs": [],
   "source": [
    "A = ['해당없음', '5종', '4종', '3종', '2종', '1종']\n",
    "B = ['무', '유']\n",
    "factory['sum'] = 0\n",
    "data['D_factory'] = 0"
   ]
  },
  {
   "cell_type": "code",
   "execution_count": null,
   "metadata": {},
   "outputs": [],
   "source": [
    "# 공장등록일 년도로 표현\n",
    "factory['공장등록일'] = factory['공장등록일'].apply(lambda b: int(b[0:4]))"
   ]
  },
  {
   "cell_type": "code",
   "execution_count": null,
   "metadata": {},
   "outputs": [],
   "source": [
    "# 점수 책정\n",
    "for i, j in enumerate(A):\n",
    "    factory.loc[factory['대기오염'] == j, 'sum'] = factory.loc[factory['대기오염'] == j, 'sum'] + i\n",
    "    factory.loc[factory['수질오염'] == j, 'sum'] = factory.loc[factory['수질오염'] == j, 'sum'] + i\n",
    "    \n",
    "for i, j in enumerate(B):\n",
    "    factory.loc[factory['소음/진동여부'] == j, 'sum'] = factory.loc[factory['소음/진동여부'] == j, 'sum'] + i"
   ]
  },
  {
   "cell_type": "code",
   "execution_count": null,
   "metadata": {},
   "outputs": [],
   "source": [
    "# 공장(공해) 변수 생성\n",
    "a = (data['lat'].values, data['lng'].values, data['년'].values)\n",
    "b = (factory['fac_lat'].values, factory['fac_lng'].values,factory['공장등록일'].values)\n",
    "\n",
    "for i in range(len(data)):\n",
    "    for j in range(len(factory)):\n",
    "        if(haversine((a[0][i],a[1][i]), (b[0][j],b[1][j]), unit = 'm') < 300 and a[2][i] > b[2][j]):\n",
    "            data.at[i,'D_factory'] = data.at[i,'D_factory'] + factory.at[j, 'sum']"
   ]
  },
  {
   "cell_type": "code",
   "execution_count": 19,
   "metadata": {},
   "outputs": [],
   "source": [
    "data.to_excel('종로구 실거래(13~18).xlsx', index = False)"
   ]
  }
 ],
 "metadata": {
  "kernelspec": {
   "display_name": "Python 3",
   "language": "python",
   "name": "python3"
  },
  "language_info": {
   "codemirror_mode": {
    "name": "ipython",
    "version": 3
   },
   "file_extension": ".py",
   "mimetype": "text/x-python",
   "name": "python",
   "nbconvert_exporter": "python",
   "pygments_lexer": "ipython3",
   "version": "3.7.7"
  }
 },
 "nbformat": 4,
 "nbformat_minor": 2
}
