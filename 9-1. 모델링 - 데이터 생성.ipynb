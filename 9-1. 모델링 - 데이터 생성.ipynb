{
 "cells": [
  {
   "cell_type": "markdown",
   "metadata": {},
   "source": [
    "# 9. 모델링"
   ]
  },
  {
   "cell_type": "code",
   "execution_count": 1,
   "metadata": {},
   "outputs": [],
   "source": [
    "import pandas as pd\n",
    "import numpy as np\n",
    "import matplotlib.pyplot as plt\n",
    "%matplotlib inline"
   ]
  },
  {
   "cell_type": "markdown",
   "metadata": {},
   "source": [
    "## 데이터 준비"
   ]
  },
  {
   "cell_type": "code",
   "execution_count": 2,
   "metadata": {},
   "outputs": [
    {
     "name": "stderr",
     "output_type": "stream",
     "text": [
      "C:\\Users\\Yoo\\Anaconda3\\lib\\site-packages\\IPython\\core\\interactiveshell.py:3063: DtypeWarning: Columns (10,11) have mixed types.Specify dtype option on import or set low_memory=False.\n",
      "  interactivity=interactivity, compiler=compiler, result=result)\n"
     ]
    }
   ],
   "source": [
    "data = pd.read_csv(\"C:/Users/Yoo/Documents/Capstone/실거래(13~18).csv\", thousands = ',')\n",
    "district = pd.read_excel(\"C:/Users/Yoo/Documents/Capstone/클러스터링_hierarchycal.xlsx\")"
   ]
  },
  {
   "cell_type": "code",
   "execution_count": 3,
   "metadata": {},
   "outputs": [],
   "source": [
    "uniq_dis = district.area.str[:-2].unique()"
   ]
  },
  {
   "cell_type": "code",
   "execution_count": 4,
   "metadata": {},
   "outputs": [],
   "source": [
    "AA = data.행정동\n",
    "BB = []\n",
    "\n",
    "for i in range(len(AA)):\n",
    "    if AA[i] in uniq_dis:\n",
    "        BB.append(i)"
   ]
  },
  {
   "cell_type": "code",
   "execution_count": 5,
   "metadata": {},
   "outputs": [],
   "source": [
    "data = data.loc[BB]"
   ]
  },
  {
   "cell_type": "code",
   "execution_count": 6,
   "metadata": {},
   "outputs": [],
   "source": [
    "data = data.dropna().reset_index(drop=True)"
   ]
  },
  {
   "cell_type": "code",
   "execution_count": 7,
   "metadata": {},
   "outputs": [],
   "source": [
    "new_index = np.random.permutation(len(data))\n",
    "data = data.iloc[new_index].reset_index(drop=True)"
   ]
  },
  {
   "cell_type": "code",
   "execution_count": 8,
   "metadata": {},
   "outputs": [],
   "source": [
    "data.rename(columns={'거래금액':'price', '건축년도':'con_year', '년':'year', '월':'month', '일':'day', '전용면적':'area', '층':'layer'}, inplace=True)"
   ]
  },
  {
   "cell_type": "code",
   "execution_count": 9,
   "metadata": {},
   "outputs": [],
   "source": [
    "for i in range(len(data)):\n",
    "    if data.at[i,'month']<4:\n",
    "        data.at[i,'quarter'] = str(data.at[i,'year']) + '1/4'\n",
    "    elif data.at[i,'month']>3 and data.at[i,'month']<7:\n",
    "        data.at[i,'quarter'] = str(data.at[i,'year']) + '2/4'\n",
    "    elif data.at[i,'month']>6 and data.at[i,'month']<10:\n",
    "        data.at[i,'quarter'] = str(data.at[i,'year']) + '3/4'\n",
    "    else:\n",
    "        data.at[i,'quarter'] = str(data.at[i,'year']) + '4/4'\n",
    "        \n",
    "quantile = data['quarter'].unique()\n",
    "number_list = np.arange(24)\n",
    "match = (quantile, number_list)\n",
    "\n",
    "def match_quantile(quantile):\n",
    "    a = np.where(match[0] == quantile)\n",
    "    return number_list[a[0][0]]\n",
    "\n",
    "data['time'] = data['quarter'].apply(lambda x: match_quantile(x))\n",
    "data.drop(['quarter'], axis='columns', inplace=True)"
   ]
  },
  {
   "cell_type": "code",
   "execution_count": 10,
   "metadata": {},
   "outputs": [],
   "source": [
    "data_1 =  data[['con_year','time','area','layer','land_price','D_hsch','D_msch','D_esch','D_sub','D_trans','D_hos','D_market',\n",
    "          'D_library','D_factory','E_GDP','E_grow','E_CPI','E_rent','E_kospi','E_rate','A_benefit','A_pop_all','A_pop_65','A_pop_for',\n",
    "          'A_par_all','A_par_apt','brand','Max_layer','A_top','A_bottom','price','행정동','lat','lng']]"
   ]
  },
  {
   "cell_type": "code",
   "execution_count": 11,
   "metadata": {},
   "outputs": [],
   "source": [
    "corr_matrix = data_1.corr().abs()"
   ]
  },
  {
   "cell_type": "code",
   "execution_count": 12,
   "metadata": {},
   "outputs": [],
   "source": [
    "upper = corr_matrix.where(np.triu(np.ones(corr_matrix.shape), k=1).astype(np.bool))"
   ]
  },
  {
   "cell_type": "code",
   "execution_count": 13,
   "metadata": {},
   "outputs": [
    {
     "name": "stdout",
     "output_type": "stream",
     "text": [
      "There are 3 columns to remove.\n"
     ]
    },
    {
     "data": {
      "text/plain": [
       "['E_rent', 'E_kospi', 'A_pop_65']"
      ]
     },
     "execution_count": 13,
     "metadata": {},
     "output_type": "execute_result"
    }
   ],
   "source": [
    "threshold = 0.7\n",
    "to_drop = [column for column in upper.columns if any(upper[column] > threshold)]\n",
    "print('There are %d columns to remove.' % (len(to_drop)))\n",
    "to_drop"
   ]
  },
  {
   "cell_type": "code",
   "execution_count": 24,
   "metadata": {},
   "outputs": [],
   "source": [
    "col_list = {'con_year','time','area','layer','land_price','D_hsch','D_msch','D_esch','D_sub','D_trans','D_hos','D_market',\n",
    "          'D_library','D_factory','E_GDP','E_grow','E_CPI','E_rent','E_kospi','E_rate','A_benefit','A_pop_all','A_pop_65','A_pop_for',\n",
    "          'A_par_all','A_par_apt','brand','Max_layer','A_top','A_bottom','price','행정동','lat','lng', '도로명', '도로명건물본번호코드',\n",
    "           '도로명건물부번호코드','도로명시군구코드','아파트'}"
   ]
  },
  {
   "cell_type": "code",
   "execution_count": 25,
   "metadata": {},
   "outputs": [],
   "source": [
    "data = data[col_list.difference(to_drop)]"
   ]
  },
  {
   "cell_type": "code",
   "execution_count": 28,
   "metadata": {},
   "outputs": [],
   "source": [
    "for i in uniq_dis:\n",
    "    A, B = np.percentile(data.loc[data['행정동'] == i, 'area'], [30, 70])\n",
    "    \n",
    "    temp = data[data['행정동']==i]\n",
    "    \n",
    "    X = temp.index\n",
    "    X1 = temp[temp['area'] < A].index\n",
    "    X2 = temp[temp['area'] > B].index\n",
    "    X = X.difference(X1).difference(X2)\n",
    "    \n",
    "    data.loc[X, 'cluster'] = '{0}_중'.format(i)\n",
    "    data.loc[X1, 'cluster'] = '{0}_소'.format(i)\n",
    "    data.loc[X2, 'cluster'] = '{0}_대'.format(i)"
   ]
  },
  {
   "cell_type": "code",
   "execution_count": 29,
   "metadata": {},
   "outputs": [],
   "source": [
    "area_index = list(district['area'])\n",
    "class_index = list(district['class'])\n",
    "\n",
    "for i, j in enumerate(data['cluster']):\n",
    "    num = area_index.index(j)\n",
    "    \n",
    "    data.at[i,'class'] = class_index[num]"
   ]
  },
  {
   "cell_type": "code",
   "execution_count": 30,
   "metadata": {},
   "outputs": [],
   "source": [
    "def outliers(value,q1,q3):\n",
    "    low_limit = q1 - 3*(q3-q1)\n",
    "    high_limit = q3 + 3*(q3-q1)\n",
    "    \n",
    "    if value >= low_limit and value <= high_limit:\n",
    "        return 0\n",
    "    else: \n",
    "        return 1"
   ]
  },
  {
   "cell_type": "code",
   "execution_count": 31,
   "metadata": {},
   "outputs": [],
   "source": [
    "old_index = list(data.cluster.unique())\n",
    "new_index = []\n",
    "new_index_q = []\n",
    "\n",
    "for i in old_index:\n",
    "    new_index.append(data[data['cluster'] == i].index)\n",
    "\n",
    "for i in range(len(new_index)):\n",
    "    new_index_q.append(np.percentile(data.loc[new_index[i],'price'], [25,75]))\n",
    "    data.loc[new_index[i],'outlier'] = i"
   ]
  },
  {
   "cell_type": "code",
   "execution_count": 32,
   "metadata": {},
   "outputs": [],
   "source": [
    "for i in range(len(data)):\n",
    "    ob_num = int(data.at[i, 'outlier'])\n",
    "    data.at[i, 'isout'] = outliers(data.at[i,'price'], new_index_q[ob_num][0], new_index_q[ob_num][1])"
   ]
  },
  {
   "cell_type": "code",
   "execution_count": 33,
   "metadata": {},
   "outputs": [
    {
     "data": {
      "text/plain": [
       "779.0"
      ]
     },
     "execution_count": 33,
     "metadata": {},
     "output_type": "execute_result"
    }
   ],
   "source": [
    "data.isout.sum()"
   ]
  },
  {
   "cell_type": "code",
   "execution_count": 34,
   "metadata": {},
   "outputs": [
    {
     "name": "stderr",
     "output_type": "stream",
     "text": [
      "C:\\Users\\Yoo\\Anaconda3\\lib\\site-packages\\pandas\\core\\frame.py:3997: SettingWithCopyWarning: \n",
      "A value is trying to be set on a copy of a slice from a DataFrame\n",
      "\n",
      "See the caveats in the documentation: https://pandas.pydata.org/pandas-docs/stable/user_guide/indexing.html#returning-a-view-versus-a-copy\n",
      "  errors=errors,\n"
     ]
    }
   ],
   "source": [
    "data = data[data['isout'] == 0]\n",
    "data.drop(['outlier', 'isout'], axis=1, inplace=True)"
   ]
  },
  {
   "cell_type": "code",
   "execution_count": 35,
   "metadata": {},
   "outputs": [],
   "source": [
    "data_class0 = data[data['class'] == 0]\n",
    "data_class1 = data[data['class'] == 1]\n",
    "data_class2 = data[data['class'] == 2]"
   ]
  },
  {
   "cell_type": "code",
   "execution_count": 36,
   "metadata": {},
   "outputs": [],
   "source": [
    "data_class0.to_excel('C:/Users/Yoo/Documents/Capstone/data_class0.xlsx')\n",
    "data_class1.to_excel('C:/Users/Yoo/Documents/Capstone/data_class1.xlsx')\n",
    "data_class2.to_excel('C:/Users/Yoo/Documents/Capstone/data_class2.xlsx')"
   ]
  }
 ],
 "metadata": {
  "kernelspec": {
   "display_name": "Python 3",
   "language": "python",
   "name": "python3"
  },
  "language_info": {
   "codemirror_mode": {
    "name": "ipython",
    "version": 3
   },
   "file_extension": ".py",
   "mimetype": "text/x-python",
   "name": "python",
   "nbconvert_exporter": "python",
   "pygments_lexer": "ipython3",
   "version": "3.7.7"
  }
 },
 "nbformat": 4,
 "nbformat_minor": 4
}
