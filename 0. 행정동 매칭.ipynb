{
 "cells": [
  {
   "cell_type": "code",
   "execution_count": 13,
   "metadata": {},
   "outputs": [],
   "source": [
    "import pandas as pd\n",
    "import numpy as np\n",
    "import time"
   ]
  },
  {
   "cell_type": "code",
   "execution_count": 14,
   "metadata": {},
   "outputs": [],
   "source": [
    "road_all = pd.read_excel(\"C:/Users/Yoo/Documents/Capstone/Factor/행정동 법정동 매칭.xlsx\")"
   ]
  },
  {
   "cell_type": "code",
   "execution_count": 15,
   "metadata": {},
   "outputs": [],
   "source": [
    "data = pd.read_excel(\"C:/Users/Yoo/Documents/Capstone/Seoul_location/종로구 실거래(13~18).xlsx\")"
   ]
  },
  {
   "cell_type": "code",
   "execution_count": 16,
   "metadata": {},
   "outputs": [],
   "source": [
    "# 행정구 매칭 및 인덱스 초기화\n",
    "road = road_all[road_all['구'] == '종로구']\n",
    "road = road.sort_values(by=['법정동'], axis=0).reset_index(drop=True)"
   ]
  },
  {
   "cell_type": "code",
   "execution_count": 17,
   "metadata": {},
   "outputs": [],
   "source": [
    "# 년도별로 정렬 및 인덱스 초기화\n",
    "data = data.sort_values(by=['년'], axis=0).reset_index(drop=True)"
   ]
  },
  {
   "cell_type": "code",
   "execution_count": 18,
   "metadata": {},
   "outputs": [],
   "source": [
    "data['행정동'] = ''\n",
    "data['행정동코드'] = ''"
   ]
  },
  {
   "cell_type": "code",
   "execution_count": 19,
   "metadata": {},
   "outputs": [],
   "source": [
    "data['법정동시군구코드'] = data['법정동시군구코드'].astype('str')\n",
    "data['도로명코드'] = data['도로명코드'].astype('str')\n",
    "data['도로명건물본번호코드'] = data['도로명건물본번호코드'].astype('str')\n",
    "data['도로명건물부번호코드'] = data['도로명건물부번호코드'].astype('str')\n",
    "road['도로명코드'] = road['도로명코드'].astype('str')\n",
    "road['도로명건물본번호코드'] = road['도로명건물본번호코드'].astype('str')\n",
    "road['도로명건물부번호코드'] = road['도로명건물부번호코드'].astype('str')"
   ]
  },
  {
   "cell_type": "code",
   "execution_count": 21,
   "metadata": {},
   "outputs": [],
   "source": [
    "data['road_cd'] = data['법정동시군구코드']+data['도로명코드']+data['도로명건물본번호코드']+data['도로명건물부번호코드']\n",
    "road['road_cd'] = road['도로명코드']+road['도로명건물본번호코드']+road['도로명건물부번호코드']"
   ]
  },
  {
   "cell_type": "code",
   "execution_count": 23,
   "metadata": {},
   "outputs": [],
   "source": [
    "for i,j in enumerate(data['road_cd']):\n",
    "    if j in road['road_cd'].values:\n",
    "        x = np.where(road['road_cd'].values == j)\n",
    "        data.at[i,'행정동'] = road.at[x[0][0],'행정동']\n",
    "        data.at[i,'행정동코드'] = road.at[x[0][0],'행정동코드']\n",
    "        \n",
    "    else:\n",
    "        continue"
   ]
  },
  {
   "cell_type": "code",
   "execution_count": 24,
   "metadata": {},
   "outputs": [],
   "source": [
    "data.to_excel('종로구 실거래(13~18).xlsx', index = False)"
   ]
  }
 ],
 "metadata": {
  "kernelspec": {
   "display_name": "Python 3",
   "language": "python",
   "name": "python3"
  },
  "language_info": {
   "codemirror_mode": {
    "name": "ipython",
    "version": 3
   },
   "file_extension": ".py",
   "mimetype": "text/x-python",
   "name": "python",
   "nbconvert_exporter": "python",
   "pygments_lexer": "ipython3",
   "version": "3.7.7"
  }
 },
 "nbformat": 4,
 "nbformat_minor": 4
}
