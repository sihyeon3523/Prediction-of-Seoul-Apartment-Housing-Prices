{
 "cells": [
  {
   "cell_type": "markdown",
   "metadata": {},
   "source": [
    "# 0. 공시지가 나누기"
   ]
  },
  {
   "cell_type": "code",
   "execution_count": 2,
   "metadata": {},
   "outputs": [],
   "source": [
    "import pandas as pd\n",
    "import numpy as np\n",
    "import time"
   ]
  },
  {
   "cell_type": "code",
   "execution_count": 90,
   "metadata": {},
   "outputs": [],
   "source": [
    "Jiga = pd.read_excel(\"C:/Users/Yoo/Documents/Capstone/Factor/Land_price/공시지가_2018년.xlsx\")"
   ]
  },
  {
   "cell_type": "code",
   "execution_count": 91,
   "metadata": {},
   "outputs": [],
   "source": [
    "A = ['강남구','강동구','강북구','강서구','관악구','광진구','구로구','금천구','노원구','도봉구','동대문구','동작구','마포구',\n",
    "     '서대문구','서초구','성동구','성북구','송파구','양천구','영등포구','용산구','은평구','종로구','중구','중랑구']"
   ]
  },
  {
   "cell_type": "code",
   "execution_count": 92,
   "metadata": {},
   "outputs": [
    {
     "name": "stdout",
     "output_type": "stream",
     "text": [
      "공시지가_2018_강남구 = Jiga[Jiga['SIGUNGU_NM'] == '강남구']\n",
      "공시지가_2018_강동구 = Jiga[Jiga['SIGUNGU_NM'] == '강동구']\n",
      "공시지가_2018_강북구 = Jiga[Jiga['SIGUNGU_NM'] == '강북구']\n",
      "공시지가_2018_강서구 = Jiga[Jiga['SIGUNGU_NM'] == '강서구']\n",
      "공시지가_2018_관악구 = Jiga[Jiga['SIGUNGU_NM'] == '관악구']\n",
      "공시지가_2018_광진구 = Jiga[Jiga['SIGUNGU_NM'] == '광진구']\n",
      "공시지가_2018_구로구 = Jiga[Jiga['SIGUNGU_NM'] == '구로구']\n",
      "공시지가_2018_금천구 = Jiga[Jiga['SIGUNGU_NM'] == '금천구']\n",
      "공시지가_2018_노원구 = Jiga[Jiga['SIGUNGU_NM'] == '노원구']\n",
      "공시지가_2018_도봉구 = Jiga[Jiga['SIGUNGU_NM'] == '도봉구']\n",
      "공시지가_2018_동대문구 = Jiga[Jiga['SIGUNGU_NM'] == '동대문구']\n",
      "공시지가_2018_동작구 = Jiga[Jiga['SIGUNGU_NM'] == '동작구']\n",
      "공시지가_2018_마포구 = Jiga[Jiga['SIGUNGU_NM'] == '마포구']\n",
      "공시지가_2018_서대문구 = Jiga[Jiga['SIGUNGU_NM'] == '서대문구']\n",
      "공시지가_2018_서초구 = Jiga[Jiga['SIGUNGU_NM'] == '서초구']\n",
      "공시지가_2018_성동구 = Jiga[Jiga['SIGUNGU_NM'] == '성동구']\n",
      "공시지가_2018_성북구 = Jiga[Jiga['SIGUNGU_NM'] == '성북구']\n",
      "공시지가_2018_송파구 = Jiga[Jiga['SIGUNGU_NM'] == '송파구']\n",
      "공시지가_2018_양천구 = Jiga[Jiga['SIGUNGU_NM'] == '양천구']\n",
      "공시지가_2018_영등포구 = Jiga[Jiga['SIGUNGU_NM'] == '영등포구']\n",
      "공시지가_2018_용산구 = Jiga[Jiga['SIGUNGU_NM'] == '용산구']\n",
      "공시지가_2018_은평구 = Jiga[Jiga['SIGUNGU_NM'] == '은평구']\n",
      "공시지가_2018_종로구 = Jiga[Jiga['SIGUNGU_NM'] == '종로구']\n",
      "공시지가_2018_중구 = Jiga[Jiga['SIGUNGU_NM'] == '중구']\n",
      "공시지가_2018_중랑구 = Jiga[Jiga['SIGUNGU_NM'] == '중랑구']\n"
     ]
    }
   ],
   "source": [
    "for i in A:\n",
    "    x = \"공시지가_2018_%s = Jiga[Jiga['SIGUNGU_NM'] == '%s']\"%(i,i)\n",
    "    print(x)"
   ]
  },
  {
   "cell_type": "code",
   "execution_count": 93,
   "metadata": {},
   "outputs": [],
   "source": [
    "공시지가_2018_강남구 = Jiga[Jiga['SIGUNGU_NM'] == '강남구']\n",
    "공시지가_2018_강동구 = Jiga[Jiga['SIGUNGU_NM'] == '강동구']\n",
    "공시지가_2018_강북구 = Jiga[Jiga['SIGUNGU_NM'] == '강북구']\n",
    "공시지가_2018_강서구 = Jiga[Jiga['SIGUNGU_NM'] == '강서구']\n",
    "공시지가_2018_관악구 = Jiga[Jiga['SIGUNGU_NM'] == '관악구']\n",
    "공시지가_2018_광진구 = Jiga[Jiga['SIGUNGU_NM'] == '광진구']\n",
    "공시지가_2018_구로구 = Jiga[Jiga['SIGUNGU_NM'] == '구로구']\n",
    "공시지가_2018_금천구 = Jiga[Jiga['SIGUNGU_NM'] == '금천구']\n",
    "공시지가_2018_노원구 = Jiga[Jiga['SIGUNGU_NM'] == '노원구']\n",
    "공시지가_2018_도봉구 = Jiga[Jiga['SIGUNGU_NM'] == '도봉구']\n",
    "공시지가_2018_동대문구 = Jiga[Jiga['SIGUNGU_NM'] == '동대문구']\n",
    "공시지가_2018_동작구 = Jiga[Jiga['SIGUNGU_NM'] == '동작구']\n",
    "공시지가_2018_마포구 = Jiga[Jiga['SIGUNGU_NM'] == '마포구']\n",
    "공시지가_2018_서대문구 = Jiga[Jiga['SIGUNGU_NM'] == '서대문구']\n",
    "공시지가_2018_서초구 = Jiga[Jiga['SIGUNGU_NM'] == '서초구']\n",
    "공시지가_2018_성동구 = Jiga[Jiga['SIGUNGU_NM'] == '성동구']\n",
    "공시지가_2018_성북구 = Jiga[Jiga['SIGUNGU_NM'] == '성북구']\n",
    "공시지가_2018_송파구 = Jiga[Jiga['SIGUNGU_NM'] == '송파구']\n",
    "공시지가_2018_양천구 = Jiga[Jiga['SIGUNGU_NM'] == '양천구']\n",
    "공시지가_2018_영등포구 = Jiga[Jiga['SIGUNGU_NM'] == '영등포구']\n",
    "공시지가_2018_용산구 = Jiga[Jiga['SIGUNGU_NM'] == '용산구']\n",
    "공시지가_2018_은평구 = Jiga[Jiga['SIGUNGU_NM'] == '은평구']\n",
    "공시지가_2018_종로구 = Jiga[Jiga['SIGUNGU_NM'] == '종로구']\n",
    "공시지가_2018_중구 = Jiga[Jiga['SIGUNGU_NM'] == '중구']\n",
    "공시지가_2018_중랑구 = Jiga[Jiga['SIGUNGU_NM'] == '중랑구']"
   ]
  },
  {
   "cell_type": "code",
   "execution_count": 94,
   "metadata": {},
   "outputs": [
    {
     "name": "stdout",
     "output_type": "stream",
     "text": [
      "공시지가_2018_강남구.drop(['SIGUNGU_NM','YEAR'],axis=1,inplace=True)\n",
      "공시지가_2018_강동구.drop(['SIGUNGU_NM','YEAR'],axis=1,inplace=True)\n",
      "공시지가_2018_강북구.drop(['SIGUNGU_NM','YEAR'],axis=1,inplace=True)\n",
      "공시지가_2018_강서구.drop(['SIGUNGU_NM','YEAR'],axis=1,inplace=True)\n",
      "공시지가_2018_관악구.drop(['SIGUNGU_NM','YEAR'],axis=1,inplace=True)\n",
      "공시지가_2018_광진구.drop(['SIGUNGU_NM','YEAR'],axis=1,inplace=True)\n",
      "공시지가_2018_구로구.drop(['SIGUNGU_NM','YEAR'],axis=1,inplace=True)\n",
      "공시지가_2018_금천구.drop(['SIGUNGU_NM','YEAR'],axis=1,inplace=True)\n",
      "공시지가_2018_노원구.drop(['SIGUNGU_NM','YEAR'],axis=1,inplace=True)\n",
      "공시지가_2018_도봉구.drop(['SIGUNGU_NM','YEAR'],axis=1,inplace=True)\n",
      "공시지가_2018_동대문구.drop(['SIGUNGU_NM','YEAR'],axis=1,inplace=True)\n",
      "공시지가_2018_동작구.drop(['SIGUNGU_NM','YEAR'],axis=1,inplace=True)\n",
      "공시지가_2018_마포구.drop(['SIGUNGU_NM','YEAR'],axis=1,inplace=True)\n",
      "공시지가_2018_서대문구.drop(['SIGUNGU_NM','YEAR'],axis=1,inplace=True)\n",
      "공시지가_2018_서초구.drop(['SIGUNGU_NM','YEAR'],axis=1,inplace=True)\n",
      "공시지가_2018_성동구.drop(['SIGUNGU_NM','YEAR'],axis=1,inplace=True)\n",
      "공시지가_2018_성북구.drop(['SIGUNGU_NM','YEAR'],axis=1,inplace=True)\n",
      "공시지가_2018_송파구.drop(['SIGUNGU_NM','YEAR'],axis=1,inplace=True)\n",
      "공시지가_2018_양천구.drop(['SIGUNGU_NM','YEAR'],axis=1,inplace=True)\n",
      "공시지가_2018_영등포구.drop(['SIGUNGU_NM','YEAR'],axis=1,inplace=True)\n",
      "공시지가_2018_용산구.drop(['SIGUNGU_NM','YEAR'],axis=1,inplace=True)\n",
      "공시지가_2018_은평구.drop(['SIGUNGU_NM','YEAR'],axis=1,inplace=True)\n",
      "공시지가_2018_종로구.drop(['SIGUNGU_NM','YEAR'],axis=1,inplace=True)\n",
      "공시지가_2018_중구.drop(['SIGUNGU_NM','YEAR'],axis=1,inplace=True)\n",
      "공시지가_2018_중랑구.drop(['SIGUNGU_NM','YEAR'],axis=1,inplace=True)\n"
     ]
    }
   ],
   "source": [
    "for i in A:\n",
    "    x = \"공시지가_2018_%s.drop(['SIGUNGU_NM','YEAR'],axis=1,inplace=True)\"%i\n",
    "    print(x)"
   ]
  },
  {
   "cell_type": "code",
   "execution_count": 95,
   "metadata": {},
   "outputs": [],
   "source": [
    "공시지가_2018_강남구.drop(['SIGUNGU_NM','YEAR'],axis=1,inplace=True)\n",
    "공시지가_2018_강동구.drop(['SIGUNGU_NM','YEAR'],axis=1,inplace=True)\n",
    "공시지가_2018_강북구.drop(['SIGUNGU_NM','YEAR'],axis=1,inplace=True)\n",
    "공시지가_2018_강서구.drop(['SIGUNGU_NM','YEAR'],axis=1,inplace=True)\n",
    "공시지가_2018_관악구.drop(['SIGUNGU_NM','YEAR'],axis=1,inplace=True)\n",
    "공시지가_2018_광진구.drop(['SIGUNGU_NM','YEAR'],axis=1,inplace=True)\n",
    "공시지가_2018_구로구.drop(['SIGUNGU_NM','YEAR'],axis=1,inplace=True)\n",
    "공시지가_2018_금천구.drop(['SIGUNGU_NM','YEAR'],axis=1,inplace=True)\n",
    "공시지가_2018_노원구.drop(['SIGUNGU_NM','YEAR'],axis=1,inplace=True)\n",
    "공시지가_2018_도봉구.drop(['SIGUNGU_NM','YEAR'],axis=1,inplace=True)\n",
    "공시지가_2018_동대문구.drop(['SIGUNGU_NM','YEAR'],axis=1,inplace=True)\n",
    "공시지가_2018_동작구.drop(['SIGUNGU_NM','YEAR'],axis=1,inplace=True)\n",
    "공시지가_2018_마포구.drop(['SIGUNGU_NM','YEAR'],axis=1,inplace=True)\n",
    "공시지가_2018_서대문구.drop(['SIGUNGU_NM','YEAR'],axis=1,inplace=True)\n",
    "공시지가_2018_서초구.drop(['SIGUNGU_NM','YEAR'],axis=1,inplace=True)\n",
    "공시지가_2018_성동구.drop(['SIGUNGU_NM','YEAR'],axis=1,inplace=True)\n",
    "공시지가_2018_성북구.drop(['SIGUNGU_NM','YEAR'],axis=1,inplace=True)\n",
    "공시지가_2018_송파구.drop(['SIGUNGU_NM','YEAR'],axis=1,inplace=True)\n",
    "공시지가_2018_양천구.drop(['SIGUNGU_NM','YEAR'],axis=1,inplace=True)\n",
    "공시지가_2018_영등포구.drop(['SIGUNGU_NM','YEAR'],axis=1,inplace=True)\n",
    "공시지가_2018_용산구.drop(['SIGUNGU_NM','YEAR'],axis=1,inplace=True)\n",
    "공시지가_2018_은평구.drop(['SIGUNGU_NM','YEAR'],axis=1,inplace=True)\n",
    "공시지가_2018_종로구.drop(['SIGUNGU_NM','YEAR'],axis=1,inplace=True)\n",
    "공시지가_2018_중구.drop(['SIGUNGU_NM','YEAR'],axis=1,inplace=True)\n",
    "공시지가_2018_중랑구.drop(['SIGUNGU_NM','YEAR'],axis=1,inplace=True)"
   ]
  },
  {
   "cell_type": "code",
   "execution_count": 96,
   "metadata": {},
   "outputs": [
    {
     "name": "stdout",
     "output_type": "stream",
     "text": [
      "공시지가_2018_강남구.to_excel('공시지가_2018_강남구.xlsx', index = False)\n",
      "공시지가_2018_강동구.to_excel('공시지가_2018_강동구.xlsx', index = False)\n",
      "공시지가_2018_강북구.to_excel('공시지가_2018_강북구.xlsx', index = False)\n",
      "공시지가_2018_강서구.to_excel('공시지가_2018_강서구.xlsx', index = False)\n",
      "공시지가_2018_관악구.to_excel('공시지가_2018_관악구.xlsx', index = False)\n",
      "공시지가_2018_광진구.to_excel('공시지가_2018_광진구.xlsx', index = False)\n",
      "공시지가_2018_구로구.to_excel('공시지가_2018_구로구.xlsx', index = False)\n",
      "공시지가_2018_금천구.to_excel('공시지가_2018_금천구.xlsx', index = False)\n",
      "공시지가_2018_노원구.to_excel('공시지가_2018_노원구.xlsx', index = False)\n",
      "공시지가_2018_도봉구.to_excel('공시지가_2018_도봉구.xlsx', index = False)\n",
      "공시지가_2018_동대문구.to_excel('공시지가_2018_동대문구.xlsx', index = False)\n",
      "공시지가_2018_동작구.to_excel('공시지가_2018_동작구.xlsx', index = False)\n",
      "공시지가_2018_마포구.to_excel('공시지가_2018_마포구.xlsx', index = False)\n",
      "공시지가_2018_서대문구.to_excel('공시지가_2018_서대문구.xlsx', index = False)\n",
      "공시지가_2018_서초구.to_excel('공시지가_2018_서초구.xlsx', index = False)\n",
      "공시지가_2018_성동구.to_excel('공시지가_2018_성동구.xlsx', index = False)\n",
      "공시지가_2018_성북구.to_excel('공시지가_2018_성북구.xlsx', index = False)\n",
      "공시지가_2018_송파구.to_excel('공시지가_2018_송파구.xlsx', index = False)\n",
      "공시지가_2018_양천구.to_excel('공시지가_2018_양천구.xlsx', index = False)\n",
      "공시지가_2018_영등포구.to_excel('공시지가_2018_영등포구.xlsx', index = False)\n",
      "공시지가_2018_용산구.to_excel('공시지가_2018_용산구.xlsx', index = False)\n",
      "공시지가_2018_은평구.to_excel('공시지가_2018_은평구.xlsx', index = False)\n",
      "공시지가_2018_종로구.to_excel('공시지가_2018_종로구.xlsx', index = False)\n",
      "공시지가_2018_중구.to_excel('공시지가_2018_중구.xlsx', index = False)\n",
      "공시지가_2018_중랑구.to_excel('공시지가_2018_중랑구.xlsx', index = False)\n"
     ]
    }
   ],
   "source": [
    "for i in A:\n",
    "    x = \"공시지가_2018_%s.to_excel('공시지가_2018_%s.xlsx', index = False)\"%(i,i)\n",
    "    print(x)"
   ]
  },
  {
   "cell_type": "code",
   "execution_count": 97,
   "metadata": {},
   "outputs": [],
   "source": [
    "공시지가_2018_강남구.to_excel('공시지가_2018_강남구.xlsx', index = False)\n",
    "공시지가_2018_강동구.to_excel('공시지가_2018_강동구.xlsx', index = False)\n",
    "공시지가_2018_강북구.to_excel('공시지가_2018_강북구.xlsx', index = False)\n",
    "공시지가_2018_강서구.to_excel('공시지가_2018_강서구.xlsx', index = False)\n",
    "공시지가_2018_관악구.to_excel('공시지가_2018_관악구.xlsx', index = False)\n",
    "공시지가_2018_광진구.to_excel('공시지가_2018_광진구.xlsx', index = False)\n",
    "공시지가_2018_구로구.to_excel('공시지가_2018_구로구.xlsx', index = False)\n",
    "공시지가_2018_금천구.to_excel('공시지가_2018_금천구.xlsx', index = False)\n",
    "공시지가_2018_노원구.to_excel('공시지가_2018_노원구.xlsx', index = False)\n",
    "공시지가_2018_도봉구.to_excel('공시지가_2018_도봉구.xlsx', index = False)\n",
    "공시지가_2018_동대문구.to_excel('공시지가_2018_동대문구.xlsx', index = False)\n",
    "공시지가_2018_동작구.to_excel('공시지가_2018_동작구.xlsx', index = False)\n",
    "공시지가_2018_마포구.to_excel('공시지가_2018_마포구.xlsx', index = False)\n",
    "공시지가_2018_서대문구.to_excel('공시지가_2018_서대문구.xlsx', index = False)\n",
    "공시지가_2018_서초구.to_excel('공시지가_2018_서초구.xlsx', index = False)\n",
    "공시지가_2018_성동구.to_excel('공시지가_2018_성동구.xlsx', index = False)\n",
    "공시지가_2018_성북구.to_excel('공시지가_2018_성북구.xlsx', index = False)\n",
    "공시지가_2018_송파구.to_excel('공시지가_2018_송파구.xlsx', index = False)\n",
    "공시지가_2018_양천구.to_excel('공시지가_2018_양천구.xlsx', index = False)\n",
    "공시지가_2018_영등포구.to_excel('공시지가_2018_영등포구.xlsx', index = False)\n",
    "공시지가_2018_용산구.to_excel('공시지가_2018_용산구.xlsx', index = False)\n",
    "공시지가_2018_은평구.to_excel('공시지가_2018_은평구.xlsx', index = False)\n",
    "공시지가_2018_종로구.to_excel('공시지가_2018_종로구.xlsx', index = False)\n",
    "공시지가_2018_중구.to_excel('공시지가_2018_중구.xlsx', index = False)\n",
    "공시지가_2018_중랑구.to_excel('공시지가_2018_중랑구.xlsx', index = False)"
   ]
  }
 ],
 "metadata": {
  "kernelspec": {
   "display_name": "Python 3",
   "language": "python",
   "name": "python3"
  },
  "language_info": {
   "codemirror_mode": {
    "name": "ipython",
    "version": 3
   },
   "file_extension": ".py",
   "mimetype": "text/x-python",
   "name": "python",
   "nbconvert_exporter": "python",
   "pygments_lexer": "ipython3",
   "version": "3.7.3"
  }
 },
 "nbformat": 4,
 "nbformat_minor": 2
}
