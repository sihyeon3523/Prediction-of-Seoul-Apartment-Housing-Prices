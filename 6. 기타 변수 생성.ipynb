{
 "cells": [
  {
   "cell_type": "markdown",
   "metadata": {},
   "source": [
    "# 6. 기타 변수 생성"
   ]
  },
  {
   "cell_type": "code",
   "execution_count": 1,
   "metadata": {},
   "outputs": [],
   "source": [
    "import pandas as pd\n",
    "import numpy as np\n",
    "import time\n",
    "import re"
   ]
  },
  {
   "cell_type": "code",
   "execution_count": 2,
   "metadata": {},
   "outputs": [],
   "source": [
    "data = pd.read_excel(\"C:/Users/Yoo/Documents/Capstone/Seoul_location/종로구 실거래(13~18).xlsx\")"
   ]
  },
  {
   "cell_type": "markdown",
   "metadata": {},
   "source": [
    "## 6-1 아파트 브랜드 변수 생성"
   ]
  },
  {
   "cell_type": "code",
   "execution_count": 4,
   "metadata": {},
   "outputs": [],
   "source": [
    "#아파트 변수 특수문자 제거, 소문자 모두 대문자로 변환\n",
    "data['아파투'] = ''\n",
    "for i in range(len(data)):\n",
    "    text = data.at[i, '아파트']\n",
    "    data.at[i, '아파투'] = re.sub('[^\\w\\s]', '', text)\n",
    "    data.at[i, '아파투'] = data.at[i, '아파투'].upper()"
   ]
  },
  {
   "cell_type": "code",
   "execution_count": 5,
   "metadata": {},
   "outputs": [],
   "source": [
    "#8대브랜드인지 평가 맞으면 1 아니면 0\n",
    "string = ['래미안','힐스테이트','롯데캐슬','편한세상','푸르지오','샵','아이파크','IPARK','자이']\n",
    "data['brand'] = ''\n",
    "\n",
    "for i in range(len(data)):\n",
    "    for j in string:\n",
    "        if j in data.at[i,'아파투']:\n",
    "            data.at[i,'brand'] = 1\n",
    "\n",
    "data.at[data['brand'] != 1, 'brand'] = 0\n",
    "data.drop(['아파투'], axis = 1, inplace=True)"
   ]
  },
  {
   "cell_type": "markdown",
   "metadata": {},
   "source": [
    "## 6-2 공시지가 변수 생성"
   ]
  },
  {
   "cell_type": "code",
   "execution_count": 22,
   "metadata": {},
   "outputs": [],
   "source": [
    "# 년도별로 정렬 및 인덱스 초기화\n",
    "data = data.sort_values(by=['년'], axis=0).reset_index(drop=True)"
   ]
  },
  {
   "cell_type": "code",
   "execution_count": 23,
   "metadata": {},
   "outputs": [],
   "source": [
    "# 자료형 변경\n",
    "data['법정동시군구코드'] = data['법정동시군구코드'].astype('str')\n",
    "data['법정동읍면동코드'] = data['법정동읍면동코드'].astype('str')\n",
    "data['법정동지번코드'] = data['법정동지번코드'].astype('str')\n",
    "data['법정동본번코드'] = data['법정동본번코드'].astype('str')\n",
    "data['법정동부번코드'] = data['법정동부번코드'].astype('str')"
   ]
  },
  {
   "cell_type": "code",
   "execution_count": 24,
   "metadata": {},
   "outputs": [],
   "source": [
    "# 자리 수 변경\n",
    "for i in range(len(data)):\n",
    "    data.at[i,'법정동본번코드'] = data.at[i,'법정동본번코드'].rjust(4, '0')\n",
    "    data.at[i,'법정동부번코드'] = data.at[i,'법정동부번코드'].rjust(4, '0')"
   ]
  },
  {
   "cell_type": "code",
   "execution_count": 25,
   "metadata": {},
   "outputs": [],
   "source": [
    "# land_cd, land_price 열 생성\n",
    "data['land_cd'] = data['법정동시군구코드']+data['법정동읍면동코드']+data['법정동지번코드']+data['법정동본번코드']+data['법정동부번코드']\n",
    "data['land_price'] = ''"
   ]
  },
  {
   "cell_type": "code",
   "execution_count": 71,
   "metadata": {},
   "outputs": [],
   "source": [
    "# land_price 매칭함수 생성\n",
    "def Land_price(x, data):\n",
    "    A = []\n",
    "\n",
    "    for i in range(0,6):\n",
    "        A.append('C:/Users/Yoo/Documents/Capstone/Factor/Land_price/공시지가_201%d_'%(i+3) + str(x) + \".xlsx\")\n",
    "\n",
    "    for i in A:\n",
    "        print(i)\n",
    "        Jiga = pd.read_excel(\"%s\"%i)\n",
    "        Jiga['LAND_CD'] = Jiga['LAND_CD'].astype(str).str.strip()\n",
    "        C = list(Jiga['LAND_CD'])\n",
    "        D = list(Jiga['JIGA'])\n",
    "        \n",
    "        Num = np.array(data[data.loc[:,'년'] == int(i[55:59])].index.values)\n",
    "        B = list(data['land_cd'])\n",
    "        for j in Num:\n",
    "            if(B[j] in C):\n",
    "                data.at[j, 'land_price'] = D[C.index(B[j])]\n",
    "            else:\n",
    "                continue\n",
    "    \n",
    "    return data"
   ]
  },
  {
   "cell_type": "code",
   "execution_count": 72,
   "metadata": {},
   "outputs": [
    {
     "name": "stdout",
     "output_type": "stream",
     "text": [
      "C:/Users/Yoo/Documents/Capstone/Factor/Land_price/공시지가_2013_강서구.xlsx\n",
      "C:/Users/Yoo/Documents/Capstone/Factor/Land_price/공시지가_2014_강서구.xlsx\n",
      "C:/Users/Yoo/Documents/Capstone/Factor/Land_price/공시지가_2015_강서구.xlsx\n",
      "C:/Users/Yoo/Documents/Capstone/Factor/Land_price/공시지가_2016_강서구.xlsx\n",
      "C:/Users/Yoo/Documents/Capstone/Factor/Land_price/공시지가_2017_강서구.xlsx\n",
      "C:/Users/Yoo/Documents/Capstone/Factor/Land_price/공시지가_2018_강서구.xlsx\n"
     ]
    }
   ],
   "source": [
    "# land_price 변수 생성\n",
    "구 = '종로구'\n",
    "data = Land_price(구, data)"
   ]
  },
  {
   "cell_type": "markdown",
   "metadata": {},
   "source": [
    "## 6-3 최고 층 변수 생성"
   ]
  },
  {
   "cell_type": "code",
   "execution_count": 3,
   "metadata": {},
   "outputs": [],
   "source": [
    "# 아파트명 추출\n",
    "Apartment = data.아파트.unique()"
   ]
  },
  {
   "cell_type": "code",
   "execution_count": 4,
   "metadata": {},
   "outputs": [],
   "source": [
    "data['Max_layer'] = ''"
   ]
  },
  {
   "cell_type": "code",
   "execution_count": 5,
   "metadata": {},
   "outputs": [],
   "source": [
    "# 아파트 변수 생성\n",
    "for i in Apartment:\n",
    "    Apart = np.where(data['아파트'].values == i)\n",
    "    data.loc[Apart[0], 'Max_layer'] = data.층[Apart[0]].max()"
   ]
  },
  {
   "cell_type": "markdown",
   "metadata": {},
   "source": [
    "## 6-4 행정동별 상하위 동 변수 생성"
   ]
  },
  {
   "cell_type": "code",
   "execution_count": null,
   "metadata": {},
   "outputs": [],
   "source": [
    "data['A_top'] = ''\n",
    "data['A_bottom'] = ''"
   ]
  },
  {
   "cell_type": "code",
   "execution_count": null,
   "metadata": {},
   "outputs": [],
   "source": [
    "# 거래금액 변수 자료형 변환(문자 -> 숫자)\n",
    "data.거래금액 = data.거래금액.str.replace(',','').astype(int)"
   ]
  },
  {
   "cell_type": "code",
   "execution_count": null,
   "metadata": {},
   "outputs": [],
   "source": [
    "# 법정동별 거래금액\n",
    "Area = data.groupby('법정동')[['거래금액']].aggregate(\"mean\")"
   ]
  },
  {
   "cell_type": "code",
   "execution_count": null,
   "metadata": {},
   "outputs": [],
   "source": [
    "# 거래금액 상하위 10% index 추출\n",
    "Area_top = Area[Area['거래금액'] > np.percentile(Area,90)].index\n",
    "Area_bottom = Area[Area['거래금액'] < np.percentile(Area,10)].index"
   ]
  },
  {
   "cell_type": "code",
   "execution_count": null,
   "metadata": {},
   "outputs": [],
   "source": [
    "# 상하위 동 변수 생성(상위 10%면 1, 하위 10%면 1)\n",
    "for i,j in zip(Area_top,Area_bottom):\n",
    "    top = np.where(data.법정동.values == i)\n",
    "    bottom = np.where(data.법정동.values == j)\n",
    "    data.A_top[top[0]] = 1\n",
    "    data.A_bottom[bottom[0]] = 1"
   ]
  },
  {
   "cell_type": "code",
   "execution_count": null,
   "metadata": {},
   "outputs": [],
   "source": [
    "# 상하위 10% 비해당 동 0 대입\n",
    "data.loc[data.A_top != 1, 'A_top'] = 0\n",
    "data.loc[data.A_bottom != 1, 'A_bottom'] = 0"
   ]
  },
  {
   "cell_type": "code",
   "execution_count": 6,
   "metadata": {},
   "outputs": [],
   "source": [
    "data.to_excel('종로구 실거래(13~18).xlsx', index = False)"
   ]
  }
 ],
 "metadata": {
  "kernelspec": {
   "display_name": "Python 3",
   "language": "python",
   "name": "python3"
  },
  "language_info": {
   "codemirror_mode": {
    "name": "ipython",
    "version": 3
   },
   "file_extension": ".py",
   "mimetype": "text/x-python",
   "name": "python",
   "nbconvert_exporter": "python",
   "pygments_lexer": "ipython3",
   "version": "3.7.7"
  }
 },
 "nbformat": 4,
 "nbformat_minor": 2
}
